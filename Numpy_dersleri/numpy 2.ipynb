{
 "cells": [
  {
   "cell_type": "code",
   "execution_count": 1,
   "id": "0172cbf3-7f7c-4baa-9c99-f48121a94230",
   "metadata": {},
   "outputs": [],
   "source": [
    "import numpy as np"
   ]
  },
  {
   "cell_type": "code",
   "execution_count": 7,
   "id": "4d6b38ae-44e7-45a3-b7bc-2a2abad7cb6c",
   "metadata": {},
   "outputs": [
    {
     "data": {
      "text/plain": [
       "array([[[ 1,  2,  3],\n",
       "        [ 4,  5,  6],\n",
       "        [ 7,  8,  9]],\n",
       "\n",
       "       [[10, 20, 30],\n",
       "        [40, 50, 60],\n",
       "        [ 1,  2,  3]]])"
      ]
     },
     "execution_count": 7,
     "metadata": {},
     "output_type": "execute_result"
    }
   ],
   "source": [
    "arr3d=np.array([[ [1,2,3],[4,5,6],[7,8,9]],[[10,20,30],[40,50,60],[1,2,3]]])\n",
    "arr3d"
   ]
  },
  {
   "cell_type": "code",
   "execution_count": 8,
   "id": "aa66bd71-44ec-46ca-9767-843264711659",
   "metadata": {},
   "outputs": [
    {
     "data": {
      "text/plain": [
       "3"
      ]
     },
     "execution_count": 8,
     "metadata": {},
     "output_type": "execute_result"
    }
   ],
   "source": [
    "arr3d.ndim"
   ]
  },
  {
   "cell_type": "code",
   "execution_count": 9,
   "id": "56b3ed2b-3c4b-423b-a4da-bc74a64742d2",
   "metadata": {},
   "outputs": [
    {
     "data": {
      "text/plain": [
       "(2, 3, 3)"
      ]
     },
     "execution_count": 9,
     "metadata": {},
     "output_type": "execute_result"
    }
   ],
   "source": [
    "arr3d.shape"
   ]
  },
  {
   "cell_type": "markdown",
   "id": "899e7e94-6987-4e40-8c91-5db090eb284e",
   "metadata": {},
   "source": [
    "BİR ARRAY İ RESHAPE(YENİDEN ŞEKİLLENDİRME) ETME\n"
   ]
  },
  {
   "cell_type": "code",
   "execution_count": 10,
   "id": "ef9c4793-b3cd-4275-a729-359dce941a67",
   "metadata": {},
   "outputs": [],
   "source": [
    "# .reshape() methodu arraylarin şeklini değiştirir \n",
    "# toplam eleman sayısını sabit tutmaya yarar"
   ]
  },
  {
   "cell_type": "code",
   "execution_count": 13,
   "id": "a9d0dd87-4db4-44b7-a94e-6e65c2a2951c",
   "metadata": {},
   "outputs": [
    {
     "data": {
      "text/plain": [
       "array([[ 1,  2,  3,  4,  5,  6],\n",
       "       [ 7,  8,  9, 10, 20, 30],\n",
       "       [40, 50, 60,  1,  2,  3]])"
      ]
     },
     "execution_count": 13,
     "metadata": {},
     "output_type": "execute_result"
    }
   ],
   "source": [
    "arr3d.reshape(3,6)"
   ]
  },
  {
   "cell_type": "code",
   "execution_count": 14,
   "id": "5c387a09-131b-4d87-bf2a-f33dd3df04d0",
   "metadata": {},
   "outputs": [],
   "source": [
    "arr2d=np.arange(30)"
   ]
  },
  {
   "cell_type": "code",
   "execution_count": 15,
   "id": "aba2756b-25d7-48da-bb15-65b78d2dcdfe",
   "metadata": {},
   "outputs": [
    {
     "data": {
      "text/plain": [
       "array([ 0,  1,  2,  3,  4,  5,  6,  7,  8,  9, 10, 11, 12, 13, 14, 15, 16,\n",
       "       17, 18, 19, 20, 21, 22, 23, 24, 25, 26, 27, 28, 29])"
      ]
     },
     "execution_count": 15,
     "metadata": {},
     "output_type": "execute_result"
    }
   ],
   "source": [
    "arr2d\n"
   ]
  },
  {
   "cell_type": "code",
   "execution_count": 16,
   "id": "3afe4111-8edd-42cb-92b7-f0d9495d3bfa",
   "metadata": {},
   "outputs": [
    {
     "data": {
      "text/plain": [
       "array([[ 0,  1,  2,  3,  4,  5],\n",
       "       [ 6,  7,  8,  9, 10, 11],\n",
       "       [12, 13, 14, 15, 16, 17],\n",
       "       [18, 19, 20, 21, 22, 23],\n",
       "       [24, 25, 26, 27, 28, 29]])"
      ]
     },
     "execution_count": 16,
     "metadata": {},
     "output_type": "execute_result"
    }
   ],
   "source": [
    "arr2d.reshape(5,6)"
   ]
  },
  {
   "cell_type": "code",
   "execution_count": 17,
   "id": "8408289c-15f6-4410-8ae5-6ec052b67f7d",
   "metadata": {},
   "outputs": [],
   "source": [
    "arr2d=np.arange(30).reshape(5,6)"
   ]
  },
  {
   "cell_type": "code",
   "execution_count": 18,
   "id": "235cf3d2-4800-4410-8b77-3fce39b33251",
   "metadata": {},
   "outputs": [
    {
     "data": {
      "text/plain": [
       "array([[ 0,  1,  2,  3,  4,  5],\n",
       "       [ 6,  7,  8,  9, 10, 11],\n",
       "       [12, 13, 14, 15, 16, 17],\n",
       "       [18, 19, 20, 21, 22, 23],\n",
       "       [24, 25, 26, 27, 28, 29]])"
      ]
     },
     "execution_count": 18,
     "metadata": {},
     "output_type": "execute_result"
    }
   ],
   "source": [
    "arr2d"
   ]
  },
  {
   "cell_type": "code",
   "execution_count": 19,
   "id": "bace5beb-04d0-44b5-b67a-e2f67f3209c6",
   "metadata": {},
   "outputs": [],
   "source": [
    "# bilinmeyen boyut\n",
    "# .reshape() methodu kullanılırken hesaplamak istediğimiz boyut yerine -1 yazıp otomatik hesaplatabiliriz"
   ]
  },
  {
   "cell_type": "code",
   "execution_count": 20,
   "id": "7ae7c36e-4382-4bdc-9f0a-b24aeaec468b",
   "metadata": {},
   "outputs": [],
   "source": [
    "arr3d=np.arange(120).reshape(5,2,-1)"
   ]
  },
  {
   "cell_type": "code",
   "execution_count": 21,
   "id": "a4de9804-6521-484c-977f-8e040a8334d9",
   "metadata": {},
   "outputs": [
    {
     "data": {
      "text/plain": [
       "array([[[  0,   1,   2,   3,   4,   5,   6,   7,   8,   9,  10,  11],\n",
       "        [ 12,  13,  14,  15,  16,  17,  18,  19,  20,  21,  22,  23]],\n",
       "\n",
       "       [[ 24,  25,  26,  27,  28,  29,  30,  31,  32,  33,  34,  35],\n",
       "        [ 36,  37,  38,  39,  40,  41,  42,  43,  44,  45,  46,  47]],\n",
       "\n",
       "       [[ 48,  49,  50,  51,  52,  53,  54,  55,  56,  57,  58,  59],\n",
       "        [ 60,  61,  62,  63,  64,  65,  66,  67,  68,  69,  70,  71]],\n",
       "\n",
       "       [[ 72,  73,  74,  75,  76,  77,  78,  79,  80,  81,  82,  83],\n",
       "        [ 84,  85,  86,  87,  88,  89,  90,  91,  92,  93,  94,  95]],\n",
       "\n",
       "       [[ 96,  97,  98,  99, 100, 101, 102, 103, 104, 105, 106, 107],\n",
       "        [108, 109, 110, 111, 112, 113, 114, 115, 116, 117, 118, 119]]])"
      ]
     },
     "execution_count": 21,
     "metadata": {},
     "output_type": "execute_result"
    }
   ],
   "source": [
    "arr3d"
   ]
  },
  {
   "cell_type": "code",
   "execution_count": 26,
   "id": "72f89376-9194-4972-9477-98c944b88783",
   "metadata": {},
   "outputs": [
    {
     "data": {
      "text/plain": [
       "dtype('int64')"
      ]
     },
     "execution_count": 26,
     "metadata": {},
     "output_type": "execute_result"
    }
   ],
   "source": [
    " arr3d=np.arange(60).reshape(2,-1,5)\n",
    "\n",
    "arr3d.dtype"
   ]
  },
  {
   "cell_type": "code",
   "execution_count": 27,
   "id": "993cccaa-da77-4314-a800-3c12deeca0c5",
   "metadata": {},
   "outputs": [
    {
     "data": {
      "text/plain": [
       "3"
      ]
     },
     "execution_count": 27,
     "metadata": {},
     "output_type": "execute_result"
    }
   ],
   "source": [
    "arr3d.ndim"
   ]
  },
  {
   "cell_type": "code",
   "execution_count": 28,
   "id": "3aa833ba-3120-4fcf-b4aa-3fce5bb8754e",
   "metadata": {},
   "outputs": [
    {
     "data": {
      "text/plain": [
       "array([[[ 0,  1,  2,  3,  4],\n",
       "        [ 5,  6,  7,  8,  9],\n",
       "        [10, 11, 12, 13, 14],\n",
       "        [15, 16, 17, 18, 19],\n",
       "        [20, 21, 22, 23, 24],\n",
       "        [25, 26, 27, 28, 29]],\n",
       "\n",
       "       [[30, 31, 32, 33, 34],\n",
       "        [35, 36, 37, 38, 39],\n",
       "        [40, 41, 42, 43, 44],\n",
       "        [45, 46, 47, 48, 49],\n",
       "        [50, 51, 52, 53, 54],\n",
       "        [55, 56, 57, 58, 59]]])"
      ]
     },
     "execution_count": 28,
     "metadata": {},
     "output_type": "execute_result"
    }
   ],
   "source": [
    "arr3d"
   ]
  },
  {
   "cell_type": "markdown",
   "id": "dd267ce2-11dd-4349-b144-61a9c9da6953",
   "metadata": {},
   "source": [
    "ARRAYLARİ DÜZLEŞTİRME"
   ]
  },
  {
   "cell_type": "code",
   "execution_count": 29,
   "id": "bc576fa0-1e3e-4657-978f-94c1d313a4d0",
   "metadata": {},
   "outputs": [],
   "source": [
    "# düzleştirme işlemi (FLATTEN) ÇOK BOYUTLU BİR ARRAYİ 1 boyutlu arraya çevirme\n",
    "# basitçe .reshape(-1) methoduyla yapılır"
   ]
  },
  {
   "cell_type": "code",
   "execution_count": 30,
   "id": "652b5bcb-3b33-4b8d-8af0-0936241cd8f1",
   "metadata": {},
   "outputs": [],
   "source": [
    "arr2d=np.arange(40).reshape(8,5)"
   ]
  },
  {
   "cell_type": "code",
   "execution_count": 31,
   "id": "77cb66ac-d3d6-4b4c-b6d4-0c92258a534e",
   "metadata": {},
   "outputs": [
    {
     "data": {
      "text/plain": [
       "array([[ 0,  1,  2,  3,  4],\n",
       "       [ 5,  6,  7,  8,  9],\n",
       "       [10, 11, 12, 13, 14],\n",
       "       [15, 16, 17, 18, 19],\n",
       "       [20, 21, 22, 23, 24],\n",
       "       [25, 26, 27, 28, 29],\n",
       "       [30, 31, 32, 33, 34],\n",
       "       [35, 36, 37, 38, 39]])"
      ]
     },
     "execution_count": 31,
     "metadata": {},
     "output_type": "execute_result"
    }
   ],
   "source": [
    "arr2d"
   ]
  },
  {
   "cell_type": "code",
   "execution_count": 32,
   "id": "b063cb55-4414-40a0-bfe6-3b07b092b247",
   "metadata": {},
   "outputs": [
    {
     "data": {
      "text/plain": [
       "array([ 0,  1,  2,  3,  4,  5,  6,  7,  8,  9, 10, 11, 12, 13, 14, 15, 16,\n",
       "       17, 18, 19, 20, 21, 22, 23, 24, 25, 26, 27, 28, 29, 30, 31, 32, 33,\n",
       "       34, 35, 36, 37, 38, 39])"
      ]
     },
     "execution_count": 32,
     "metadata": {},
     "output_type": "execute_result"
    }
   ],
   "source": [
    "arr2d.reshape(-1)"
   ]
  },
  {
   "cell_type": "code",
   "execution_count": 35,
   "id": "beb0caee-8f85-4ced-be80-a25982695eb3",
   "metadata": {},
   "outputs": [
    {
     "data": {
      "text/plain": [
       "array([[[28,  9, 62],\n",
       "        [59, 16, 99],\n",
       "        [73, 62, 17],\n",
       "        [16, 79, 83],\n",
       "        [84, 87, 63]],\n",
       "\n",
       "       [[10, 49, 46],\n",
       "        [71, 15,  2],\n",
       "        [70, 17, 34],\n",
       "        [15, 25,  6],\n",
       "        [50, 77, 80]]], dtype=int32)"
      ]
     },
     "execution_count": 35,
     "metadata": {},
     "output_type": "execute_result"
    }
   ],
   "source": [
    "arr3d=np.random.randint(1,100,30).reshape(2,-1,3)\n",
    "arr3d"
   ]
  },
  {
   "cell_type": "code",
   "execution_count": 36,
   "id": "08e6f32b-5cbc-4ca0-aca0-fe7244ea42af",
   "metadata": {},
   "outputs": [
    {
     "data": {
      "text/plain": [
       "array([28,  9, 62, 59, 16, 99, 73, 62, 17, 16, 79, 83, 84, 87, 63, 10, 49,\n",
       "       46, 71, 15,  2, 70, 17, 34, 15, 25,  6, 50, 77, 80], dtype=int32)"
      ]
     },
     "execution_count": 36,
     "metadata": {},
     "output_type": "execute_result"
    }
   ],
   "source": [
    "arr3d.reshape(-1)"
   ]
  },
  {
   "cell_type": "markdown",
   "id": "f02ca00d-49ba-4cc6-afd8-36e6b62b7560",
   "metadata": {},
   "source": [
    "ÇOK BOYUTLU ARRAYLARDA İTERATİON(YİNELEME)"
   ]
  },
  {
   "cell_type": "code",
   "execution_count": 37,
   "id": "17d0d6e5-bf19-4d74-9013-e6da239c41f8",
   "metadata": {},
   "outputs": [
    {
     "data": {
      "text/plain": [
       "array([0, 1, 2, 3, 4, 5, 6, 7, 8, 9])"
      ]
     },
     "execution_count": 37,
     "metadata": {},
     "output_type": "execute_result"
    }
   ],
   "source": [
    "arr1d=np.arange(10)\n",
    "arr1d"
   ]
  },
  {
   "cell_type": "code",
   "execution_count": 40,
   "id": "66fe3e24-ed5e-40bf-afde-42651d058ae1",
   "metadata": {},
   "outputs": [
    {
     "name": "stdout",
     "output_type": "stream",
     "text": [
      "0\n",
      "1\n",
      "2\n",
      "3\n",
      "4\n",
      "5\n",
      "6\n",
      "7\n",
      "8\n",
      "9\n"
     ]
    }
   ],
   "source": [
    "for x in arr1d:\n",
    "    print(x)"
   ]
  },
  {
   "cell_type": "code",
   "execution_count": 41,
   "id": "26cce8ce-5efe-4a1c-b21c-61cdd07e7102",
   "metadata": {},
   "outputs": [
    {
     "data": {
      "text/plain": [
       "array([[ 0,  1,  2,  3,  4],\n",
       "       [ 5,  6,  7,  8,  9],\n",
       "       [10, 11, 12, 13, 14],\n",
       "       [15, 16, 17, 18, 19]])"
      ]
     },
     "execution_count": 41,
     "metadata": {},
     "output_type": "execute_result"
    }
   ],
   "source": [
    "arr2d=np.arange(20).reshape(4,5)\n",
    "arr2d"
   ]
  },
  {
   "cell_type": "code",
   "execution_count": 42,
   "id": "e65dad0c-c234-4686-a0b3-29594cf00330",
   "metadata": {},
   "outputs": [
    {
     "name": "stdout",
     "output_type": "stream",
     "text": [
      "[0 1 2 3 4]\n",
      "[5 6 7 8 9]\n",
      "[10 11 12 13 14]\n",
      "[15 16 17 18 19]\n"
     ]
    }
   ],
   "source": [
    "for x in arr2d:\n",
    "    print(x)"
   ]
  },
  {
   "cell_type": "code",
   "execution_count": 43,
   "id": "c77fe1cc-b163-4796-9b1c-a6244bb06723",
   "metadata": {},
   "outputs": [
    {
     "name": "stdout",
     "output_type": "stream",
     "text": [
      "0\n",
      "1\n",
      "2\n",
      "3\n",
      "4\n",
      "5\n",
      "6\n",
      "7\n",
      "8\n",
      "9\n",
      "10\n",
      "11\n",
      "12\n",
      "13\n",
      "14\n",
      "15\n",
      "16\n",
      "17\n",
      "18\n",
      "19\n"
     ]
    }
   ],
   "source": [
    "for x in arr2d:\n",
    "    for y in x:\n",
    "        print(y)"
   ]
  },
  {
   "cell_type": "code",
   "execution_count": 44,
   "id": "9c6180e5-efb9-43e2-8882-39826b4e919d",
   "metadata": {},
   "outputs": [
    {
     "data": {
      "text/plain": [
       "array([[[ 0,  1,  2,  3,  4],\n",
       "        [ 5,  6,  7,  8,  9],\n",
       "        [10, 11, 12, 13, 14]],\n",
       "\n",
       "       [[15, 16, 17, 18, 19],\n",
       "        [20, 21, 22, 23, 24],\n",
       "        [25, 26, 27, 28, 29]]])"
      ]
     },
     "execution_count": 44,
     "metadata": {},
     "output_type": "execute_result"
    }
   ],
   "source": [
    "arr3d=np.arange(30).reshape(2,3,-1)\n",
    "arr3d"
   ]
  },
  {
   "cell_type": "markdown",
   "id": "c9416507-89d4-444f-86d6-81e61a98fe6d",
   "metadata": {},
   "source": [
    "ÇOK BOYUTLU ARRAYLARDA nditer() KULLANIMI"
   ]
  },
  {
   "cell_type": "code",
   "execution_count": 45,
   "id": "38669c73-a4d8-4057-8117-57b4accd9eea",
   "metadata": {},
   "outputs": [],
   "source": [
    "# for döngüsünde arrrayin boyutu kadar for yazarsak bütün elemanlara ulaşırız\n",
    "#çok boyutlu arraylarda nditer() fonlsiyonu bunun için geçerlidir\n",
    "# for döngüsüne çok daha efektif ve hızlı bir şekilde tüm elemanları dönmemimizi sağlar"
   ]
  },
  {
   "cell_type": "code",
   "execution_count": 46,
   "id": "f64120ef-2742-4281-ba06-ea3563e7feb1",
   "metadata": {},
   "outputs": [
    {
     "data": {
      "text/plain": [
       "array([[[ 0,  1,  2,  3,  4],\n",
       "        [ 5,  6,  7,  8,  9],\n",
       "        [10, 11, 12, 13, 14]],\n",
       "\n",
       "       [[15, 16, 17, 18, 19],\n",
       "        [20, 21, 22, 23, 24],\n",
       "        [25, 26, 27, 28, 29]]])"
      ]
     },
     "execution_count": 46,
     "metadata": {},
     "output_type": "execute_result"
    }
   ],
   "source": [
    "arr3d"
   ]
  },
  {
   "cell_type": "code",
   "execution_count": 47,
   "id": "900e7499-3f4f-4674-a23e-cca57f14eca8",
   "metadata": {},
   "outputs": [
    {
     "data": {
      "text/plain": [
       "<numpy.nditer at 0x1e04db7f590>"
      ]
     },
     "execution_count": 47,
     "metadata": {},
     "output_type": "execute_result"
    }
   ],
   "source": [
    "np.nditer(arr3d)"
   ]
  },
  {
   "cell_type": "code",
   "execution_count": 48,
   "id": "e4f08b73-4189-4c1d-9d54-78b81e9e297f",
   "metadata": {},
   "outputs": [
    {
     "name": "stdout",
     "output_type": "stream",
     "text": [
      "0\n",
      "1\n",
      "2\n",
      "3\n",
      "4\n",
      "5\n",
      "6\n",
      "7\n",
      "8\n",
      "9\n",
      "10\n",
      "11\n",
      "12\n",
      "13\n",
      "14\n",
      "15\n",
      "16\n",
      "17\n",
      "18\n",
      "19\n",
      "20\n",
      "21\n",
      "22\n",
      "23\n",
      "24\n",
      "25\n",
      "26\n",
      "27\n",
      "28\n",
      "29\n"
     ]
    }
   ],
   "source": [
    "for x in np.nditer(arr3d):\n",
    "    print(x)"
   ]
  },
  {
   "cell_type": "code",
   "execution_count": 49,
   "id": "778526b5-f4f8-487f-ab62-de5d7082d6e6",
   "metadata": {},
   "outputs": [
    {
     "data": {
      "text/plain": [
       "array([[[  0,   1,   2,   3,   4,   5,   6,   7,   8,   9,  10,  11,\n",
       "          12,  13,  14,  15,  16,  17,  18,  19,  20,  21,  22,  23,\n",
       "          24,  25,  26,  27,  28,  29],\n",
       "        [ 30,  31,  32,  33,  34,  35,  36,  37,  38,  39,  40,  41,\n",
       "          42,  43,  44,  45,  46,  47,  48,  49,  50,  51,  52,  53,\n",
       "          54,  55,  56,  57,  58,  59],\n",
       "        [ 60,  61,  62,  63,  64,  65,  66,  67,  68,  69,  70,  71,\n",
       "          72,  73,  74,  75,  76,  77,  78,  79,  80,  81,  82,  83,\n",
       "          84,  85,  86,  87,  88,  89],\n",
       "        [ 90,  91,  92,  93,  94,  95,  96,  97,  98,  99, 100, 101,\n",
       "         102, 103, 104, 105, 106, 107, 108, 109, 110, 111, 112, 113,\n",
       "         114, 115, 116, 117, 118, 119]]])"
      ]
     },
     "execution_count": 49,
     "metadata": {},
     "output_type": "execute_result"
    }
   ],
   "source": [
    "arr3d=np.arange(120).reshape(-1,4,30)\n",
    "arr3d"
   ]
  },
  {
   "cell_type": "code",
   "execution_count": 50,
   "id": "562739cd-315f-4d7c-97a9-a17a29ca68a1",
   "metadata": {},
   "outputs": [
    {
     "name": "stdout",
     "output_type": "stream",
     "text": [
      "0\n",
      "1\n",
      "2\n",
      "3\n",
      "4\n",
      "5\n",
      "6\n",
      "7\n",
      "8\n",
      "9\n",
      "10\n",
      "11\n",
      "12\n",
      "13\n",
      "14\n",
      "15\n",
      "16\n",
      "17\n",
      "18\n",
      "19\n",
      "20\n",
      "21\n",
      "22\n",
      "23\n",
      "24\n",
      "25\n",
      "26\n",
      "27\n",
      "28\n",
      "29\n",
      "30\n",
      "31\n",
      "32\n",
      "33\n",
      "34\n",
      "35\n",
      "36\n",
      "37\n",
      "38\n",
      "39\n",
      "40\n",
      "41\n",
      "42\n",
      "43\n",
      "44\n",
      "45\n",
      "46\n",
      "47\n",
      "48\n",
      "49\n",
      "50\n",
      "51\n",
      "52\n",
      "53\n",
      "54\n",
      "55\n",
      "56\n",
      "57\n",
      "58\n",
      "59\n",
      "60\n",
      "61\n",
      "62\n",
      "63\n",
      "64\n",
      "65\n",
      "66\n",
      "67\n",
      "68\n",
      "69\n",
      "70\n",
      "71\n",
      "72\n",
      "73\n",
      "74\n",
      "75\n",
      "76\n",
      "77\n",
      "78\n",
      "79\n",
      "80\n",
      "81\n",
      "82\n",
      "83\n",
      "84\n",
      "85\n",
      "86\n",
      "87\n",
      "88\n",
      "89\n",
      "90\n",
      "91\n",
      "92\n",
      "93\n",
      "94\n",
      "95\n",
      "96\n",
      "97\n",
      "98\n",
      "99\n",
      "100\n",
      "101\n",
      "102\n",
      "103\n",
      "104\n",
      "105\n",
      "106\n",
      "107\n",
      "108\n",
      "109\n",
      "110\n",
      "111\n",
      "112\n",
      "113\n",
      "114\n",
      "115\n",
      "116\n",
      "117\n",
      "118\n",
      "119\n"
     ]
    }
   ],
   "source": [
    "for x in np.nditer(arr3d):\n",
    "    print(x)"
   ]
  },
  {
   "cell_type": "markdown",
   "id": "059fbb24-0342-45a3-a2fa-17340dc717a1",
   "metadata": {},
   "source": [
    "ARRAY ELEMANLARI ARASINDA 4 İŞLEM"
   ]
  },
  {
   "cell_type": "code",
   "execution_count": 54,
   "id": "812877e7-c256-41d5-b635-bfe08befff4f",
   "metadata": {},
   "outputs": [],
   "source": [
    "arr1d=np.array([10,20,30,40])\n",
    "arr2d=np.array([10,200,3,40])"
   ]
  },
  {
   "cell_type": "code",
   "execution_count": 56,
   "id": "a05b9388-49d0-4898-bb9f-e3e82d2467e8",
   "metadata": {},
   "outputs": [
    {
     "data": {
      "text/plain": [
       "array([ 10, 200,   3,  40])"
      ]
     },
     "execution_count": 56,
     "metadata": {},
     "output_type": "execute_result"
    }
   ],
   "source": [
    "arr2d"
   ]
  },
  {
   "cell_type": "code",
   "execution_count": 57,
   "id": "492e7ab3-4f56-4d36-9e42-71f4cb81157d",
   "metadata": {},
   "outputs": [
    {
     "data": {
      "text/plain": [
       "array([10, 20, 30, 40])"
      ]
     },
     "execution_count": 57,
     "metadata": {},
     "output_type": "execute_result"
    }
   ],
   "source": [
    "arr1d"
   ]
  },
  {
   "cell_type": "code",
   "execution_count": 58,
   "id": "24420ea2-844b-4247-a639-bccef224d55e",
   "metadata": {},
   "outputs": [
    {
     "data": {
      "text/plain": [
       "array([ 20, 220,  33,  80])"
      ]
     },
     "execution_count": 58,
     "metadata": {},
     "output_type": "execute_result"
    }
   ],
   "source": [
    "arr1d+arr2d"
   ]
  },
  {
   "cell_type": "code",
   "execution_count": 60,
   "id": "eb055e3c-ae26-4ef3-86b7-79747e736c7c",
   "metadata": {},
   "outputs": [
    {
     "data": {
      "text/plain": [
       "array([ 20, 220,  33,  80])"
      ]
     },
     "execution_count": 60,
     "metadata": {},
     "output_type": "execute_result"
    }
   ],
   "source": [
    "arr1d.__add__(arr2d)"
   ]
  },
  {
   "cell_type": "markdown",
   "id": "2ca6e941-d343-40b2-8a82-f1a6a0e3abdb",
   "metadata": {},
   "source": [
    "BİR ARRAYİN ORT TOP VAR STANDART SAPMASINA NASIL BAKILIR"
   ]
  },
  {
   "cell_type": "code",
   "execution_count": 61,
   "id": "d93435e6-0c03-4c83-a2fe-72e736b8bcad",
   "metadata": {},
   "outputs": [],
   "source": [
    "arr=np.random.randint(0,10,10)"
   ]
  },
  {
   "cell_type": "code",
   "execution_count": 62,
   "id": "e4648133-f7af-4432-a54a-f2c10687c0fe",
   "metadata": {},
   "outputs": [
    {
     "data": {
      "text/plain": [
       "array([5, 8, 1, 2, 1, 2, 4, 1, 6, 8], dtype=int32)"
      ]
     },
     "execution_count": 62,
     "metadata": {},
     "output_type": "execute_result"
    }
   ],
   "source": [
    "arr"
   ]
  },
  {
   "cell_type": "code",
   "execution_count": 63,
   "id": "16a682b5-c160-4993-9b74-e82f6b170009",
   "metadata": {},
   "outputs": [
    {
     "data": {
      "text/plain": [
       "np.int64(38)"
      ]
     },
     "execution_count": 63,
     "metadata": {},
     "output_type": "execute_result"
    }
   ],
   "source": [
    "arr.sum()"
   ]
  },
  {
   "cell_type": "code",
   "execution_count": 64,
   "id": "400b3e96-cfa3-492d-b801-c1e54731a468",
   "metadata": {},
   "outputs": [
    {
     "data": {
      "text/plain": [
       "np.float64(3.8)"
      ]
     },
     "execution_count": 64,
     "metadata": {},
     "output_type": "execute_result"
    }
   ],
   "source": [
    "arr.mean()"
   ]
  },
  {
   "cell_type": "code",
   "execution_count": 65,
   "id": "0f824703-7828-4474-ae02-9e497573af26",
   "metadata": {},
   "outputs": [
    {
     "data": {
      "text/plain": [
       "np.float64(7.159999999999999)"
      ]
     },
     "execution_count": 65,
     "metadata": {},
     "output_type": "execute_result"
    }
   ],
   "source": [
    "arr.var()"
   ]
  },
  {
   "cell_type": "code",
   "execution_count": 66,
   "id": "e0e76b21-c930-4e02-9b5c-e1716d62d2be",
   "metadata": {},
   "outputs": [
    {
     "data": {
      "text/plain": [
       "np.float64(2.6758176320519302)"
      ]
     },
     "execution_count": 66,
     "metadata": {},
     "output_type": "execute_result"
    }
   ],
   "source": [
    "arr.std()"
   ]
  },
  {
   "cell_type": "code",
   "execution_count": 67,
   "id": "63c31a86-efcb-43ab-ad92-a984a03dd90d",
   "metadata": {},
   "outputs": [
    {
     "data": {
      "text/plain": [
       "array([5, 8, 1, 2, 1, 2, 4, 1, 6, 8], dtype=int32)"
      ]
     },
     "execution_count": 67,
     "metadata": {},
     "output_type": "execute_result"
    }
   ],
   "source": [
    "arr"
   ]
  },
  {
   "cell_type": "code",
   "execution_count": 68,
   "id": "65eda393-877b-4be9-b4bd-9dfa1e27e33e",
   "metadata": {},
   "outputs": [
    {
     "data": {
      "text/plain": [
       "array([2.23606798, 2.82842712, 1.        , 1.41421356, 1.        ,\n",
       "       1.41421356, 2.        , 1.        , 2.44948974, 2.82842712])"
      ]
     },
     "execution_count": 68,
     "metadata": {},
     "output_type": "execute_result"
    }
   ],
   "source": [
    "np.sqrt(arr)"
   ]
  },
  {
   "cell_type": "code",
   "execution_count": 69,
   "id": "d4785206-92ed-4196-bb9f-10c683528e4d",
   "metadata": {},
   "outputs": [
    {
     "data": {
      "text/plain": [
       "array([-0.95892427,  0.98935825,  0.84147098,  0.90929743,  0.84147098,\n",
       "        0.90929743, -0.7568025 ,  0.84147098, -0.2794155 ,  0.98935825])"
      ]
     },
     "execution_count": 69,
     "metadata": {},
     "output_type": "execute_result"
    }
   ],
   "source": [
    "np.sin(arr)"
   ]
  },
  {
   "cell_type": "markdown",
   "id": "440101bf-2e9d-475d-ab7d-4a46f70ddd61",
   "metadata": {},
   "source": [
    "NUMPY ARRAYLARİNİ BİRLEŞTİRME(CONCATANATE)"
   ]
  },
  {
   "cell_type": "code",
   "execution_count": 70,
   "id": "bd925312-b427-497d-bd9b-8c98fcff7b79",
   "metadata": {},
   "outputs": [],
   "source": [
    "# Numpy arratlarini birleştirme .concatenate() fonksiyonun içine birleştirilecek arraylar verilir\n",
    "# np.concatenate([arr1,arr2],axis=1)\n"
   ]
  },
  {
   "cell_type": "code",
   "execution_count": 71,
   "id": "a2f6f8c8-d738-49c1-98f3-7029bee3fa72",
   "metadata": {},
   "outputs": [],
   "source": [
    "arr1=np.array([10,23,45])\n",
    "arr2=np.array([2,4,56])"
   ]
  },
  {
   "cell_type": "code",
   "execution_count": 72,
   "id": "9517195a-037b-479a-855f-1b7f4464a491",
   "metadata": {},
   "outputs": [
    {
     "data": {
      "text/plain": [
       "array([10, 23, 45])"
      ]
     },
     "execution_count": 72,
     "metadata": {},
     "output_type": "execute_result"
    }
   ],
   "source": [
    "arr1"
   ]
  },
  {
   "cell_type": "code",
   "execution_count": 73,
   "id": "517a9add-6603-45bd-b0c4-f9b911730663",
   "metadata": {},
   "outputs": [
    {
     "data": {
      "text/plain": [
       "array([ 2,  4, 56])"
      ]
     },
     "execution_count": 73,
     "metadata": {},
     "output_type": "execute_result"
    }
   ],
   "source": [
    "arr2"
   ]
  },
  {
   "cell_type": "code",
   "execution_count": 74,
   "id": "64737454-64ff-47ec-ae1f-7c689ee08bec",
   "metadata": {},
   "outputs": [
    {
     "data": {
      "text/plain": [
       "array([10, 23, 45,  2,  4, 56])"
      ]
     },
     "execution_count": 74,
     "metadata": {},
     "output_type": "execute_result"
    }
   ],
   "source": [
    "np.concatenate([arr1,arr2],axis=0)"
   ]
  },
  {
   "cell_type": "code",
   "execution_count": 82,
   "id": "fb8e3401-82fe-4bfb-b9ed-5c10d705e112",
   "metadata": {},
   "outputs": [
    {
     "data": {
      "text/plain": [
       "array([17, 29,  4, 11, 11,  3,  4,  9,  2, 14], dtype=int32)"
      ]
     },
     "execution_count": 82,
     "metadata": {},
     "output_type": "execute_result"
    }
   ],
   "source": [
    "arr2d=np.random.randint(0,30,10)\n",
    "arr2d"
   ]
  },
  {
   "cell_type": "code",
   "execution_count": 89,
   "id": "01c2d72b-c745-40fd-bd44-8e1ddb1d849c",
   "metadata": {},
   "outputs": [
    {
     "data": {
      "text/plain": [
       "array([[17, 29,  4, 11, 11],\n",
       "       [ 3,  4,  9,  2, 14]], dtype=int32)"
      ]
     },
     "execution_count": 89,
     "metadata": {},
     "output_type": "execute_result"
    }
   ],
   "source": [
    "arr2d=arr2d.reshape(2,5,)\n",
    "arr2d"
   ]
  },
  {
   "cell_type": "code",
   "execution_count": 95,
   "id": "7a0245e4-ccfd-4ef0-b3b9-00ccaf5b9a24",
   "metadata": {},
   "outputs": [
    {
     "data": {
      "text/plain": [
       "array([[3, 4, 5],\n",
       "       [7, 8, 9]])"
      ]
     },
     "execution_count": 95,
     "metadata": {},
     "output_type": "execute_result"
    }
   ],
   "source": [
    "arr2d1=np.array([[3,4,5],[7,8,9]])\n",
    "arr2d1"
   ]
  },
  {
   "cell_type": "code",
   "execution_count": 100,
   "id": "9daf9eed-f625-4635-a550-90bee8887b1f",
   "metadata": {},
   "outputs": [
    {
     "data": {
      "text/plain": [
       "array([[17, 29,  4, 11, 11,  3,  4,  5],\n",
       "       [ 3,  4,  9,  2, 14,  7,  8,  9]])"
      ]
     },
     "execution_count": 100,
     "metadata": {},
     "output_type": "execute_result"
    }
   ],
   "source": [
    "np.concatenate([arr2d,arr2d1],axis=1)   #eksen"
   ]
  },
  {
   "cell_type": "markdown",
   "id": "0ff10261-cf12-4b61-bc06-c034815c8516",
   "metadata": {},
   "source": [
    "ARRAYLARİ YIĞINLAMA(STACKLEME) İŞLEMLERİ"
   ]
  },
  {
   "cell_type": "code",
   "execution_count": 101,
   "id": "d03dbcd2-f2d5-4060-a21f-3b2f84c37a3d",
   "metadata": {},
   "outputs": [],
   "source": [
    "# concatenate işleminin hemen hemen aynısııdr tek farkı yeni bir boyut(eksen üzerinde) yığınlamalar yapmasıdır"
   ]
  },
  {
   "cell_type": "code",
   "execution_count": 106,
   "id": "f1973697-b9c1-40c9-9107-7d00ee421bbd",
   "metadata": {},
   "outputs": [
    {
     "data": {
      "text/plain": [
       "array([24, 12, 13,  2, 28, 16,  7, 28, 19, 20], dtype=int32)"
      ]
     },
     "execution_count": 106,
     "metadata": {},
     "output_type": "execute_result"
    }
   ],
   "source": [
    "arr1=np.random.randint(0,30,10)\n",
    "arr1"
   ]
  },
  {
   "cell_type": "code",
   "execution_count": 111,
   "id": "fda98578-4fab-4daa-97f7-bd4a93dae9ea",
   "metadata": {},
   "outputs": [
    {
     "data": {
      "text/plain": [
       "array([14, 19,  0, 14,  4, 19, 19,  7,  5,  7], dtype=int32)"
      ]
     },
     "execution_count": 111,
     "metadata": {},
     "output_type": "execute_result"
    }
   ],
   "source": [
    "arr2=np.random.randint(0,20,10)\n",
    "arr2"
   ]
  },
  {
   "cell_type": "code",
   "execution_count": 112,
   "id": "c83ab3ba-e9c7-445d-a3e9-842150327266",
   "metadata": {},
   "outputs": [
    {
     "data": {
      "text/plain": [
       "array([24, 12, 13,  2, 28, 16,  7, 28, 19, 20, 14, 19,  0, 14,  4, 19, 19,\n",
       "        7,  5,  7], dtype=int32)"
      ]
     },
     "execution_count": 112,
     "metadata": {},
     "output_type": "execute_result"
    }
   ],
   "source": [
    "np.concatenate([arr1,arr2],axis=0)"
   ]
  },
  {
   "cell_type": "code",
   "execution_count": 114,
   "id": "815524f1-1dfc-4e96-9221-80a6bce57d08",
   "metadata": {},
   "outputs": [
    {
     "data": {
      "text/plain": [
       "array([[24, 12, 13,  2, 28, 16,  7, 28, 19, 20],\n",
       "       [14, 19,  0, 14,  4, 19, 19,  7,  5,  7]], dtype=int32)"
      ]
     },
     "execution_count": 114,
     "metadata": {},
     "output_type": "execute_result"
    }
   ],
   "source": [
    "np.stack([arr1,arr2],axis=0)   # yeni bir eksen koyar  "
   ]
  },
  {
   "cell_type": "code",
   "execution_count": 115,
   "id": "cec30131-8fd4-48df-bd72-4762b2d59d6e",
   "metadata": {},
   "outputs": [],
   "source": [
    "#  np.hstack()  satur boyunca yığınlAMA\n",
    "# np.vstack()   sutün boyunca yığınlama"
   ]
  },
  {
   "cell_type": "markdown",
   "id": "78e893bb-d31b-46ed-b8b1-8b9e9b41a242",
   "metadata": {},
   "source": [
    "NUMPY ARRAYLARINDA ARAMA"
   ]
  },
  {
   "cell_type": "code",
   "execution_count": 116,
   "id": "e331c8cf-ca8f-4533-9071-a30c4aa8b306",
   "metadata": {},
   "outputs": [],
   "source": [
    "#  aradığımız değerlerin bulundupu indexleri döndürmek için np.where() fonksiyonu kullanırız\n",
    "#  np.where() içersine argüman olarak condition(şart) alır"
   ]
  },
  {
   "cell_type": "code",
   "execution_count": 121,
   "id": "091370ec-8278-453a-9813-e8d0ae8dc78d",
   "metadata": {},
   "outputs": [
    {
     "data": {
      "text/plain": [
       "array([3, 0, 7, 1, 9, 7, 0, 6], dtype=int32)"
      ]
     },
     "execution_count": 121,
     "metadata": {},
     "output_type": "execute_result"
    }
   ],
   "source": [
    "arr=np.random.randint(0,10,8)\n",
    "arr"
   ]
  },
  {
   "cell_type": "code",
   "execution_count": 122,
   "id": "72c2d79d-0b0a-4915-97f8-a9e5a2c51f63",
   "metadata": {},
   "outputs": [
    {
     "data": {
      "text/plain": [
       "(array([4]),)"
      ]
     },
     "execution_count": 122,
     "metadata": {},
     "output_type": "execute_result"
    }
   ],
   "source": [
    "np.where(arr==9)\n"
   ]
  },
  {
   "cell_type": "code",
   "execution_count": 123,
   "id": "e405844d-cc4f-4f5c-b7e3-249b169d7148",
   "metadata": {},
   "outputs": [
    {
     "data": {
      "text/plain": [
       "(array([2, 5]),)"
      ]
     },
     "execution_count": 123,
     "metadata": {},
     "output_type": "execute_result"
    }
   ],
   "source": [
    "np.where(arr==7)"
   ]
  },
  {
   "cell_type": "code",
   "execution_count": 124,
   "id": "221c6bdd-451b-4d1f-8434-1741eb26cb9a",
   "metadata": {},
   "outputs": [
    {
     "data": {
      "text/plain": [
       "(array([0, 2, 3, 4, 5]),)"
      ]
     },
     "execution_count": 124,
     "metadata": {},
     "output_type": "execute_result"
    }
   ],
   "source": [
    "np.where(arr%2!=0)"
   ]
  },
  {
   "cell_type": "markdown",
   "id": "8dcd450f-ec1e-47b3-9df5-74936ebe71f1",
   "metadata": {},
   "source": [
    "NUMPY DA RANDOM KÜTÜPHANESİ"
   ]
  },
  {
   "cell_type": "code",
   "execution_count": 125,
   "id": "5ee88031-d4ee-4102-9b53-ab88094ad791",
   "metadata": {},
   "outputs": [],
   "source": [
    "#  random diye ayrı bir kütüphane olmasının yanında numpy kütüphanesinin içinde random adında kütüphane bulunur\n",
    "# numpy ın iiçindeki randım kütüphanesi normal random kütüphanesinden daha kapsamlıdır"
   ]
  },
  {
   "cell_type": "code",
   "execution_count": 126,
   "id": "aab62cb3-8a45-4863-8460-83e9e28e7f65",
   "metadata": {},
   "outputs": [],
   "source": [
    "# from numpy import random as rd dersek rd ile çağırırız\n",
    "import numpy as np"
   ]
  },
  {
   "cell_type": "code",
   "execution_count": 129,
   "id": "0fdd6c24-d5e7-40f9-9ca7-2c0df0a84827",
   "metadata": {},
   "outputs": [
    {
     "data": {
      "text/plain": [
       "array([-1.91553806,  0.36190028, -1.34870175,  1.17487318,  0.93427448])"
      ]
     },
     "execution_count": 129,
     "metadata": {},
     "output_type": "execute_result"
    }
   ],
   "source": [
    "np.random.randn(5)   #  normal dağılımdan 5 tane veri çek\n"
   ]
  },
  {
   "cell_type": "code",
   "execution_count": 130,
   "id": "b9b9d089-3e95-4e08-b1a9-4178493999d3",
   "metadata": {},
   "outputs": [
    {
     "data": {
      "text/plain": [
       "np.int32(7)"
      ]
     },
     "execution_count": 130,
     "metadata": {},
     "output_type": "execute_result"
    }
   ],
   "source": [
    "np.random.choice(arr)"
   ]
  },
  {
   "cell_type": "code",
   "execution_count": 132,
   "id": "85984077-7094-4cf7-ab75-206b06972237",
   "metadata": {},
   "outputs": [
    {
     "data": {
      "text/plain": [
       "np.int32(2)"
      ]
     },
     "execution_count": 132,
     "metadata": {},
     "output_type": "execute_result"
    }
   ],
   "source": [
    "np.random.choice(np.random.randint(0,30,10))"
   ]
  },
  {
   "cell_type": "code",
   "execution_count": null,
   "id": "5ec30fa5-7e1a-42d5-8fc2-50343bf47442",
   "metadata": {},
   "outputs": [],
   "source": [
    "a"
   ]
  }
 ],
 "metadata": {
  "kernelspec": {
   "display_name": "Python 3 (ipykernel)",
   "language": "python",
   "name": "python3"
  },
  "language_info": {
   "codemirror_mode": {
    "name": "ipython",
    "version": 3
   },
   "file_extension": ".py",
   "mimetype": "text/x-python",
   "name": "python",
   "nbconvert_exporter": "python",
   "pygments_lexer": "ipython3",
   "version": "3.13.5"
  }
 },
 "nbformat": 4,
 "nbformat_minor": 5
}
