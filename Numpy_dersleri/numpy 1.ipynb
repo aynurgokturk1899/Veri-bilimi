{
 "cells": [
  {
   "cell_type": "code",
   "execution_count": 2,
   "id": "aae415ac-52e9-463e-835d-0f979bcf70ed",
   "metadata": {},
   "outputs": [],
   "source": [
    "#sayılarla daha hızlı matematik işlemler yaparız\n",
    "#python da array yok liste şeklinde çok boyutlu\n",
    "#hızlıdır arraylardan 50 kat hızlıdır\n",
    "#hızlı çalışmasının nedeni c ve c++ ile yazılması python kütühanleri daha hızlı çalışması için c de yazıır\n",
    "#"
   ]
  },
  {
   "cell_type": "code",
   "execution_count": 3,
   "id": "7dba4118-e0c9-4918-b645-9011ba62a947",
   "metadata": {
    "scrolled": true
   },
   "outputs": [
    {
     "name": "stdout",
     "output_type": "stream",
     "text": [
      "Requirement already satisfied: numpy in c:\\users\\hp\\anaconda3\\lib\\site-packages (2.1.3)\n",
      "Note: you may need to restart the kernel to use updated packages.\n"
     ]
    }
   ],
   "source": [
    "pip install numpy"
   ]
  },
  {
   "cell_type": "code",
   "execution_count": 1,
   "id": "ad55d137-7777-4bb4-8fbd-7ff5383188da",
   "metadata": {},
   "outputs": [
    {
     "ename": "SyntaxError",
     "evalue": "invalid syntax (1904197115.py, line 1)",
     "output_type": "error",
     "traceback": [
      "\u001b[1;36m  Cell \u001b[1;32mIn[1], line 1\u001b[1;36m\u001b[0m\n\u001b[1;33m    import numpy np\u001b[0m\n\u001b[1;37m                 ^\u001b[0m\n\u001b[1;31mSyntaxError\u001b[0m\u001b[1;31m:\u001b[0m invalid syntax\n"
     ]
    }
   ],
   "source": [
    "import numpy np"
   ]
  },
  {
   "cell_type": "code",
   "execution_count": 6,
   "id": "404a0d03-6b41-429e-8b65-61c58103243c",
   "metadata": {},
   "outputs": [],
   "source": [
    "import numpy as np"
   ]
  },
  {
   "cell_type": "markdown",
   "id": "80ed1e81-9d47-4363-abbc-be1a3f15f6c9",
   "metadata": {},
   "source": [
    "NUMPY ARRAYLARI OLUŞTURMA"
   ]
  },
  {
   "cell_type": "code",
   "execution_count": 7,
   "id": "899c4f75-4f81-4f6e-ad7e-06767db05a3f",
   "metadata": {},
   "outputs": [],
   "source": [
    "#np.array([1,2,3])   #liste ya da tuple benzeri nesneleri arraya çevirebiliriz\n",
    "#np.arrange() , np.linspace(), np.logspace()  #Built-in hazır fonksiyonları\n",
    "#rastgele data üreterek"
   ]
  },
  {
   "cell_type": "code",
   "execution_count": 8,
   "id": "32611a35-497c-4c6c-8962-3b6a5275b952",
   "metadata": {},
   "outputs": [
    {
     "name": "stdout",
     "output_type": "stream",
     "text": [
      "53\n"
     ]
    }
   ],
   "source": [
    "arr0d=np.array(53)\n",
    "print(arr0d)"
   ]
  },
  {
   "cell_type": "code",
   "execution_count": 9,
   "id": "efa6bf67-495e-4db6-8176-cfe48ff2c8cf",
   "metadata": {},
   "outputs": [
    {
     "name": "stdout",
     "output_type": "stream",
     "text": [
      "[1 2 3]\n"
     ]
    }
   ],
   "source": [
    "arr1d=np.array([1,2,3])\n",
    "print(arr1d)"
   ]
  },
  {
   "cell_type": "code",
   "execution_count": 10,
   "id": "7409e13e-6f62-43ea-9430-e11f49ebe7f2",
   "metadata": {},
   "outputs": [
    {
     "name": "stdout",
     "output_type": "stream",
     "text": [
      "[[1 2 3]\n",
      " [4 5 6]\n",
      " [7 8 9]]\n"
     ]
    }
   ],
   "source": [
    "arr2d=np.array([[1,2,3],[4,5,6],[7,8,9]])\n",
    "print(arr2d)"
   ]
  },
  {
   "cell_type": "code",
   "execution_count": 11,
   "id": "c8995875-7ec3-40fb-b0f3-1e24bdf3083c",
   "metadata": {
    "scrolled": true
   },
   "outputs": [
    {
     "name": "stdout",
     "output_type": "stream",
     "text": [
      "[[[  1   2   3]\n",
      "  [  4   5   6]]\n",
      "\n",
      " [[  7   8   9]\n",
      "  [110 200 300]]]\n"
     ]
    }
   ],
   "source": [
    "arr3d=np.array([[[1,2,3],[4,5,6]],[[7,8,9],[110,200,300]]])\n",
    "print(arr3d)"
   ]
  },
  {
   "cell_type": "code",
   "execution_count": 12,
   "id": "f5b5dfb0-4b06-495d-ad66-e016366ddc78",
   "metadata": {},
   "outputs": [
    {
     "name": "stdout",
     "output_type": "stream",
     "text": [
      "[[1 2 3]\n",
      " [4 5 6]]\n"
     ]
    }
   ],
   "source": [
    "print(arr3d[0])"
   ]
  },
  {
   "cell_type": "code",
   "execution_count": 13,
   "id": "d982fced-14d1-4535-8d18-1d3f031de1e4",
   "metadata": {},
   "outputs": [
    {
     "name": "stdout",
     "output_type": "stream",
     "text": [
      "[1 2 3]\n",
      "[1 2 3]\n"
     ]
    }
   ],
   "source": [
    "print(arr3d[0][0])\n",
    "print(arr3d[0,0])"
   ]
  },
  {
   "cell_type": "markdown",
   "id": "a85249ed-b7a0-4cfe-8792-c2cf1df97927",
   "metadata": {},
   "source": [
    "BUİLT İN FONKSİYONLARLA HIZLICA ARRAYLAR OLUŞTURMA\n"
   ]
  },
  {
   "cell_type": "code",
   "execution_count": 14,
   "id": "772b5bdb-d9bd-4553-8089-e6ae851f4b6d",
   "metadata": {},
   "outputs": [],
   "source": [
    "#np.arange(start,stop,step) start dahil stop dahil değil"
   ]
  },
  {
   "cell_type": "code",
   "execution_count": 19,
   "id": "475948c6-1d3b-43fb-90f5-fde0f6ebedfe",
   "metadata": {},
   "outputs": [
    {
     "name": "stdout",
     "output_type": "stream",
     "text": [
      "[[1 2 3]\n",
      " [4 5 6]\n",
      " [7 8 9]]\n"
     ]
    }
   ],
   "source": [
    "arr2d=np.array([[1,2,3],[4,5,6],[7,8,9]])\n",
    "print(arr2d)"
   ]
  },
  {
   "cell_type": "code",
   "execution_count": 21,
   "id": "c3439d49-de56-4718-a8bd-56daf2d80586",
   "metadata": {},
   "outputs": [
    {
     "data": {
      "text/plain": [
       "array([0, 2, 4, 6, 8])"
      ]
     },
     "execution_count": 21,
     "metadata": {},
     "output_type": "execute_result"
    }
   ],
   "source": [
    "np.arange(0,10,2) #burada hızlıca arraylar oluşturmak için kullanılır"
   ]
  },
  {
   "cell_type": "code",
   "execution_count": 25,
   "id": "69892d00-4aa2-4517-b5e0-f8d32c8f54c3",
   "metadata": {},
   "outputs": [
    {
     "data": {
      "text/plain": [
       "array([30., 34., 38., 42., 46., 50.])"
      ]
     },
     "execution_count": 25,
     "metadata": {},
     "output_type": "execute_result"
    }
   ],
   "source": [
    "np.linspace(30,50,6)    #burada start stop dahil float şekilde ilerler\n",
    "   "
   ]
  },
  {
   "cell_type": "code",
   "execution_count": 23,
   "id": "30449891-703e-4451-996c-e95ef2b666a4",
   "metadata": {},
   "outputs": [
    {
     "data": {
      "text/plain": [
       "array([  10.        ,   16.68100537,   27.82559402,   46.41588834,\n",
       "         77.42636827,  129.1549665 ,  215.443469  ,  359.38136638,\n",
       "        599.48425032, 1000.        ])"
      ]
     },
     "execution_count": 23,
     "metadata": {},
     "output_type": "execute_result"
    }
   ],
   "source": [
    "np.logspace(1,3,10)   # 10 üssü 1 ile 10 üssü 3 arasında logaritmiik artış yapan 10 tane veriden oluşan veri oluştur"
   ]
  },
  {
   "cell_type": "code",
   "execution_count": 26,
   "id": "05eb5f0b-db1b-407c-9865-7af5dc072181",
   "metadata": {},
   "outputs": [
    {
     "data": {
      "text/plain": [
       "array([30, 34, 38, 42, 46, 50])"
      ]
     },
     "execution_count": 26,
     "metadata": {},
     "output_type": "execute_result"
    }
   ],
   "source": [
    "np.linspace(30,50,6, dtype=int) #burada 6 tane veri al 30 ile 50 arasınd arttır"
   ]
  },
  {
   "cell_type": "code",
   "execution_count": 27,
   "id": "f0f94dc7-37ac-475c-9e37-8b09b0905c04",
   "metadata": {},
   "outputs": [
    {
     "data": {
      "text/plain": [
       "array([0., 0., 0., 0., 0.])"
      ]
     },
     "execution_count": 27,
     "metadata": {},
     "output_type": "execute_result"
    }
   ],
   "source": [
    "np.zeros(5)"
   ]
  },
  {
   "cell_type": "code",
   "execution_count": 28,
   "id": "372f0826-77ed-4c97-a8d9-65ed41ddba5a",
   "metadata": {},
   "outputs": [
    {
     "data": {
      "text/plain": [
       "array([0, 0, 0, 0, 0])"
      ]
     },
     "execution_count": 28,
     "metadata": {},
     "output_type": "execute_result"
    }
   ],
   "source": [
    "np.zeros(5,dtype=int)"
   ]
  },
  {
   "cell_type": "code",
   "execution_count": 31,
   "id": "6e92ab6a-de52-40ab-a8f1-38d7fedced9d",
   "metadata": {},
   "outputs": [
    {
     "data": {
      "text/plain": [
       "array([[0, 0, 0],\n",
       "       [0, 0, 0]])"
      ]
     },
     "execution_count": 31,
     "metadata": {},
     "output_type": "execute_result"
    }
   ],
   "source": [
    "np.zeros((2,3),dtype=int)"
   ]
  },
  {
   "cell_type": "code",
   "execution_count": 33,
   "id": "ff9cefdd-8fcd-4978-8a98-23666be4e9c9",
   "metadata": {},
   "outputs": [
    {
     "data": {
      "text/plain": [
       "array([[[0., 0., 0., 0.],\n",
       "        [0., 0., 0., 0.],\n",
       "        [0., 0., 0., 0.]],\n",
       "\n",
       "       [[0., 0., 0., 0.],\n",
       "        [0., 0., 0., 0.],\n",
       "        [0., 0., 0., 0.]]])"
      ]
     },
     "execution_count": 33,
     "metadata": {},
     "output_type": "execute_result"
    }
   ],
   "source": [
    "np.zeros(((2,3,4)))"
   ]
  },
  {
   "cell_type": "code",
   "execution_count": 34,
   "id": "c3d8fb62-9657-46ae-aa5f-de687734a4bd",
   "metadata": {},
   "outputs": [
    {
     "data": {
      "text/plain": [
       "array([1., 1., 1., 1., 1., 1., 1., 1., 1., 1.])"
      ]
     },
     "execution_count": 34,
     "metadata": {},
     "output_type": "execute_result"
    }
   ],
   "source": [
    "np.ones(10)"
   ]
  },
  {
   "cell_type": "code",
   "execution_count": 35,
   "id": "60697a78-1552-4a19-9742-9d73474b4875",
   "metadata": {},
   "outputs": [
    {
     "data": {
      "text/plain": [
       "array([[1., 1., 1., 1., 1.],\n",
       "       [1., 1., 1., 1., 1.],\n",
       "       [1., 1., 1., 1., 1.]])"
      ]
     },
     "execution_count": 35,
     "metadata": {},
     "output_type": "execute_result"
    }
   ],
   "source": [
    "np.ones((3,5))"
   ]
  },
  {
   "cell_type": "code",
   "execution_count": 36,
   "id": "12bd7c0d-6150-465c-9128-f549cbb55db4",
   "metadata": {},
   "outputs": [
    {
     "data": {
      "text/plain": [
       "array([[[1., 1., 1., 1.],\n",
       "        [1., 1., 1., 1.],\n",
       "        [1., 1., 1., 1.]],\n",
       "\n",
       "       [[1., 1., 1., 1.],\n",
       "        [1., 1., 1., 1.],\n",
       "        [1., 1., 1., 1.]]])"
      ]
     },
     "execution_count": 36,
     "metadata": {},
     "output_type": "execute_result"
    }
   ],
   "source": [
    "np.ones((2,3,4))"
   ]
  },
  {
   "cell_type": "code",
   "execution_count": 37,
   "id": "8613ee7c-0538-4f95-9a07-27db9f91303c",
   "metadata": {},
   "outputs": [
    {
     "data": {
      "text/plain": [
       "array([[[1., 1., 1., 1.],\n",
       "        [1., 1., 1., 1.],\n",
       "        [1., 1., 1., 1.]],\n",
       "\n",
       "       [[1., 1., 1., 1.],\n",
       "        [1., 1., 1., 1.],\n",
       "        [1., 1., 1., 1.]]])"
      ]
     },
     "execution_count": 37,
     "metadata": {},
     "output_type": "execute_result"
    }
   ],
   "source": [
    "np.ones(((2,3,4)))"
   ]
  },
  {
   "cell_type": "code",
   "execution_count": 40,
   "id": "5fd71024-3797-47a7-b54d-f5c6dcf4b351",
   "metadata": {},
   "outputs": [
    {
     "data": {
      "text/plain": [
       "array([[1, 0, 0, 0, 0],\n",
       "       [0, 1, 0, 0, 0],\n",
       "       [0, 0, 1, 0, 0],\n",
       "       [0, 0, 0, 1, 0],\n",
       "       [0, 0, 0, 0, 1]])"
      ]
     },
     "execution_count": 40,
     "metadata": {},
     "output_type": "execute_result"
    }
   ],
   "source": [
    "np.eye(5,dtype=int) #burada 5*5 birim matris"
   ]
  },
  {
   "cell_type": "code",
   "execution_count": 41,
   "id": "dc4dbe09-a25b-4835-9917-a8a6078cb5e9",
   "metadata": {},
   "outputs": [],
   "source": [
    "#burada np.random modülünü kullanaral rastgele veriler arraylar"
   ]
  },
  {
   "cell_type": "code",
   "execution_count": 43,
   "id": "b40404f2-3133-49df-b211-768b660a66e3",
   "metadata": {},
   "outputs": [
    {
     "data": {
      "text/plain": [
       "array([0.66327515, 0.92222946, 0.89565939, 0.43480889, 0.37064955,\n",
       "       0.01462006, 0.97367319, 0.28931846, 0.22656484, 0.58432172])"
      ]
     },
     "execution_count": 43,
     "metadata": {},
     "output_type": "execute_result"
    }
   ],
   "source": [
    "np.random.rand(10) #burada 10 tane 0 ile 1 arasında sayılar dönüştürdü"
   ]
  },
  {
   "cell_type": "code",
   "execution_count": 46,
   "id": "13568d70-1335-4e9d-8214-54b6f08e5f07",
   "metadata": {},
   "outputs": [
    {
     "data": {
      "text/plain": [
       "array([[0.07509301, 0.1124786 , 0.95510119, 0.3991362 , 0.43318062],\n",
       "       [0.23653089, 0.64288037, 0.51162351, 0.69013935, 0.70309308]])"
      ]
     },
     "execution_count": 46,
     "metadata": {},
     "output_type": "execute_result"
    }
   ],
   "source": [
    "np.random.rand(2,5)  #burada tuple olarak verilmiyor"
   ]
  },
  {
   "cell_type": "code",
   "execution_count": 47,
   "id": "c29f070e-482d-4c36-9b04-db5fc99e81ac",
   "metadata": {},
   "outputs": [
    {
     "data": {
      "text/plain": [
       "array([[3.47885468, 1.1454206 , 7.54182501, 0.83150551, 9.02298429],\n",
       "       [7.00900021, 5.35948142, 7.90924897, 1.23957658, 1.84123086]])"
      ]
     },
     "execution_count": 47,
     "metadata": {},
     "output_type": "execute_result"
    }
   ],
   "source": [
    "np.random.rand(2,5)*10"
   ]
  },
  {
   "cell_type": "code",
   "execution_count": 48,
   "id": "b853bb36-bbde-4cb0-acc4-9a8cc6b991d6",
   "metadata": {},
   "outputs": [
    {
     "data": {
      "text/plain": [
       "8"
      ]
     },
     "execution_count": 48,
     "metadata": {},
     "output_type": "execute_result"
    }
   ],
   "source": [
    "np.random.randint(10)"
   ]
  },
  {
   "cell_type": "code",
   "execution_count": 50,
   "id": "99cefb0c-2893-4ec5-b863-a3650a889367",
   "metadata": {},
   "outputs": [
    {
     "data": {
      "text/plain": [
       "array([43, 36, 19, 15, 30], dtype=int32)"
      ]
     },
     "execution_count": 50,
     "metadata": {},
     "output_type": "execute_result"
    }
   ],
   "source": [
    "np.random.randint(15,50,5) #burada 15 ile 50 arasında 5 sayı oluştur"
   ]
  },
  {
   "cell_type": "code",
   "execution_count": 52,
   "id": "9d68c216-cff5-468c-a530-2141c3be8fd8",
   "metadata": {},
   "outputs": [
    {
     "data": {
      "text/plain": [
       "array([[77, 23, 59, 79, 86, 23],\n",
       "       [56, 17, 56, 48, 50, 99],\n",
       "       [51,  6, 42, 45, 77, 84]], dtype=int32)"
      ]
     },
     "execution_count": 52,
     "metadata": {},
     "output_type": "execute_result"
    }
   ],
   "source": [
    "np.random.randint(0,100,(3,6))  #burada start stop size "
   ]
  },
  {
   "cell_type": "code",
   "execution_count": 54,
   "id": "550e9324-28af-4b38-a7db-2321752b07e5",
   "metadata": {},
   "outputs": [
    {
     "data": {
      "text/plain": [
       "array([[39, 13, 21,  6, 47, 16],\n",
       "       [11, 22,  2, 17, 36, 40],\n",
       "       [39, 29, 18, 37, 42, 11],\n",
       "       [32,  8,  4, 21, 12, 24]], dtype=int32)"
      ]
     },
     "execution_count": 54,
     "metadata": {},
     "output_type": "execute_result"
    }
   ],
   "source": [
    "np.random.randint(0,50,(4,6))"
   ]
  },
  {
   "cell_type": "markdown",
   "id": "aa212944-67e4-4ce6-869e-c2b1b7d546f7",
   "metadata": {},
   "source": [
    "ARRAYİN BOYUT SAYISIMI VE SHAPE İNİ KONTROL ETMEK"
   ]
  },
  {
   "cell_type": "code",
   "execution_count": 55,
   "id": "75772fe0-ce40-4ba2-8334-6801eeef8efc",
   "metadata": {},
   "outputs": [
    {
     "data": {
      "text/plain": [
       "array(53)"
      ]
     },
     "execution_count": 55,
     "metadata": {},
     "output_type": "execute_result"
    }
   ],
   "source": [
    "arr0d"
   ]
  },
  {
   "cell_type": "code",
   "execution_count": 56,
   "id": "111fa0c0-22a2-4bea-b1e7-8e6b9301dcfa",
   "metadata": {},
   "outputs": [
    {
     "data": {
      "text/plain": [
       "array([[1, 2, 3],\n",
       "       [4, 5, 6],\n",
       "       [7, 8, 9]])"
      ]
     },
     "execution_count": 56,
     "metadata": {},
     "output_type": "execute_result"
    }
   ],
   "source": [
    "arr2d"
   ]
  },
  {
   "cell_type": "code",
   "execution_count": 57,
   "id": "fdd37c12-be62-4d6d-8207-8a8e19031f3e",
   "metadata": {},
   "outputs": [
    {
     "data": {
      "text/plain": [
       "array([[[  1,   2,   3],\n",
       "        [  4,   5,   6]],\n",
       "\n",
       "       [[  7,   8,   9],\n",
       "        [110, 200, 300]]])"
      ]
     },
     "execution_count": 57,
     "metadata": {},
     "output_type": "execute_result"
    }
   ],
   "source": [
    "arr3d"
   ]
  },
  {
   "cell_type": "code",
   "execution_count": 58,
   "id": "2fc9b26f-dc6f-4184-bf82-131469869c9d",
   "metadata": {},
   "outputs": [],
   "source": [
    "#.ndim attribute i ile arrayimizin kaç boyutlu olduğuna bakabiliriz"
   ]
  },
  {
   "cell_type": "code",
   "execution_count": 59,
   "id": "d724d7b9-f0fc-4f60-87f1-83d2a514e39b",
   "metadata": {},
   "outputs": [
    {
     "data": {
      "text/plain": [
       "3"
      ]
     },
     "execution_count": 59,
     "metadata": {},
     "output_type": "execute_result"
    }
   ],
   "source": [
    "arr3d.ndim"
   ]
  },
  {
   "cell_type": "code",
   "execution_count": 61,
   "id": "143fbaa2-fd16-4209-b003-80c5b27ed7b2",
   "metadata": {},
   "outputs": [
    {
     "data": {
      "text/plain": [
       "(3, 3)"
      ]
     },
     "execution_count": 61,
     "metadata": {},
     "output_type": "execute_result"
    }
   ],
   "source": [
    "arr2d.shape #burada .shape ile boyutuna bakılabilir"
   ]
  },
  {
   "cell_type": "code",
   "execution_count": 62,
   "id": "87924753-e0d8-467f-9954-eadc8c4078bf",
   "metadata": {},
   "outputs": [
    {
     "data": {
      "text/plain": [
       "(2, 2, 3)"
      ]
     },
     "execution_count": 62,
     "metadata": {},
     "output_type": "execute_result"
    }
   ],
   "source": [
    "arr3d.shape"
   ]
  },
  {
   "cell_type": "markdown",
   "id": "cdd4acb6-7319-42bf-8079-4203431c11d6",
   "metadata": {},
   "source": [
    "NUMPY ARRAYLARİNİ İNDEXLEME VE ÖGELERE ERİŞME"
   ]
  },
  {
   "cell_type": "code",
   "execution_count": 64,
   "id": "a4148573-c4d0-411c-8aab-864719e97920",
   "metadata": {},
   "outputs": [
    {
     "data": {
      "text/plain": [
       "array([1, 2, 3])"
      ]
     },
     "execution_count": 64,
     "metadata": {},
     "output_type": "execute_result"
    }
   ],
   "source": [
    "arr1d  #burada 1 boyutlu arraylar liste şeklinde gibi düşünülebilir"
   ]
  },
  {
   "cell_type": "code",
   "execution_count": 66,
   "id": "59d14788-3ffd-4c04-b024-b8eba0156e3e",
   "metadata": {},
   "outputs": [
    {
     "data": {
      "text/plain": [
       "array([7, 8, 9])"
      ]
     },
     "execution_count": 66,
     "metadata": {},
     "output_type": "execute_result"
    }
   ],
   "source": [
    "arr2d[2]"
   ]
  },
  {
   "cell_type": "code",
   "execution_count": 67,
   "id": "9fdea07c-5871-420f-8a06-c9bbf6d74bb3",
   "metadata": {},
   "outputs": [
    {
     "data": {
      "text/plain": [
       "array([[[  1,   2,   3],\n",
       "        [  4,   5,   6]],\n",
       "\n",
       "       [[  7,   8,   9],\n",
       "        [110, 200, 300]]])"
      ]
     },
     "execution_count": 67,
     "metadata": {},
     "output_type": "execute_result"
    }
   ],
   "source": [
    "arr3d"
   ]
  },
  {
   "cell_type": "code",
   "execution_count": 70,
   "id": "a93c2455-7260-4309-b455-3adc9dde62e2",
   "metadata": {},
   "outputs": [
    {
     "data": {
      "text/plain": [
       "np.int64(6)"
      ]
     },
     "execution_count": 70,
     "metadata": {},
     "output_type": "execute_result"
    }
   ],
   "source": [
    "arr3d[0,1,2]"
   ]
  },
  {
   "cell_type": "code",
   "execution_count": 71,
   "id": "f85032a6-6b33-4e16-bc70-c9ce0fdf7880",
   "metadata": {},
   "outputs": [
    {
     "data": {
      "text/plain": [
       "np.int64(6)"
      ]
     },
     "execution_count": 71,
     "metadata": {},
     "output_type": "execute_result"
    }
   ],
   "source": [
    "arr3d[0][1][2]"
   ]
  },
  {
   "cell_type": "code",
   "execution_count": 76,
   "id": "4a228218-9795-4171-806a-38e4ead74ea6",
   "metadata": {},
   "outputs": [
    {
     "data": {
      "text/plain": [
       "np.int64(57)"
      ]
     },
     "execution_count": 76,
     "metadata": {},
     "output_type": "execute_result"
    }
   ],
   "source": [
    "arr=np.arange(53,61)\n",
    "arr[4]"
   ]
  },
  {
   "cell_type": "markdown",
   "id": "b97883ef-36f2-4058-bfbf-3caf29cbde76",
   "metadata": {},
   "source": [
    "NUMPY DİZİLERİNİN MAKSİMUM MİNUMUM ELEMANLARIN ERİŞME"
   ]
  },
  {
   "cell_type": "code",
   "execution_count": 77,
   "id": "31aa4e2f-046a-463a-837d-e1befc5a5d03",
   "metadata": {},
   "outputs": [
    {
     "data": {
      "text/plain": [
       "array([41, 41, 94,  7, 22, 63, 22, 83, 38, 11], dtype=int32)"
      ]
     },
     "execution_count": 77,
     "metadata": {},
     "output_type": "execute_result"
    }
   ],
   "source": [
    "arr=np.random.randint(1,100,10)\n",
    "arr"
   ]
  },
  {
   "cell_type": "code",
   "execution_count": 78,
   "id": "a40f7f26-f1fb-4e8c-a32e-aab883a4296d",
   "metadata": {},
   "outputs": [
    {
     "data": {
      "text/plain": [
       "np.int32(94)"
      ]
     },
     "execution_count": 78,
     "metadata": {},
     "output_type": "execute_result"
    }
   ],
   "source": [
    "arr.max()"
   ]
  },
  {
   "cell_type": "code",
   "execution_count": 79,
   "id": "c3bb6ae5-eaf7-406e-85cc-45c51d17b0da",
   "metadata": {},
   "outputs": [
    {
     "data": {
      "text/plain": [
       "np.int32(7)"
      ]
     },
     "execution_count": 79,
     "metadata": {},
     "output_type": "execute_result"
    }
   ],
   "source": [
    "arr.min()"
   ]
  },
  {
   "cell_type": "code",
   "execution_count": 81,
   "id": "70da9d15-3086-4ae1-b8cb-a204e6993b06",
   "metadata": {},
   "outputs": [
    {
     "data": {
      "text/plain": [
       "np.int64(2)"
      ]
     },
     "execution_count": 81,
     "metadata": {},
     "output_type": "execute_result"
    }
   ],
   "source": [
    "arr.argmax()   # maksimum değerinin indeksi"
   ]
  },
  {
   "cell_type": "markdown",
   "id": "47a41cbc-620b-4143-812c-e5e0cd13a4e8",
   "metadata": {},
   "source": [
    "NUMPY ARRAYLARİNDE SLİCİNG(DİLİMLEME)"
   ]
  },
  {
   "cell_type": "code",
   "execution_count": 82,
   "id": "a4efbb57-54df-453b-906d-d8fdc7358084",
   "metadata": {},
   "outputs": [
    {
     "data": {
      "text/plain": [
       "array([ 1,  2,  3,  4,  5,  6,  7,  8,  9, 10, 11, 12])"
      ]
     },
     "execution_count": 82,
     "metadata": {},
     "output_type": "execute_result"
    }
   ],
   "source": [
    "arr=np.arange(1,13)\n",
    "arr"
   ]
  },
  {
   "cell_type": "code",
   "execution_count": 83,
   "id": "4b9c653b-8052-4a7c-aa39-e55ec9a93b1d",
   "metadata": {},
   "outputs": [
    {
     "data": {
      "text/plain": [
       "array([ 6,  7,  8,  9, 10])"
      ]
     },
     "execution_count": 83,
     "metadata": {},
     "output_type": "execute_result"
    }
   ],
   "source": [
    "arr[5:10]"
   ]
  },
  {
   "cell_type": "code",
   "execution_count": 84,
   "id": "3eddde5d-0435-4629-bfaa-e4ccaa2758b3",
   "metadata": {},
   "outputs": [
    {
     "data": {
      "text/plain": [
       "array([ 5,  6,  7,  8,  9, 10, 11, 12])"
      ]
     },
     "execution_count": 84,
     "metadata": {},
     "output_type": "execute_result"
    }
   ],
   "source": [
    "arr[4:]"
   ]
  },
  {
   "cell_type": "code",
   "execution_count": 85,
   "id": "682a6263-a355-4d7a-8afd-b31ecc00b503",
   "metadata": {},
   "outputs": [
    {
     "data": {
      "text/plain": [
       "array([3, 5, 7, 9])"
      ]
     },
     "execution_count": 85,
     "metadata": {},
     "output_type": "execute_result"
    }
   ],
   "source": [
    "arr[2:10:2]"
   ]
  },
  {
   "cell_type": "code",
   "execution_count": 86,
   "id": "b3a317ac-4b79-4cc5-83cf-4dd86a46b2c3",
   "metadata": {},
   "outputs": [],
   "source": [
    "arr[5:11]=999  #broadcasting"
   ]
  },
  {
   "cell_type": "code",
   "execution_count": 87,
   "id": "375b91b3-cbae-4f58-a9d5-2135507aa322",
   "metadata": {},
   "outputs": [
    {
     "data": {
      "text/plain": [
       "array([  1,   2,   3,   4,   5, 999, 999, 999, 999, 999, 999,  12])"
      ]
     },
     "execution_count": 87,
     "metadata": {},
     "output_type": "execute_result"
    }
   ],
   "source": [
    "arr"
   ]
  },
  {
   "cell_type": "code",
   "execution_count": 88,
   "id": "5c1848d1-48a3-4cf3-ade8-602d4a882e55",
   "metadata": {},
   "outputs": [
    {
     "data": {
      "text/plain": [
       "dtype('int64')"
      ]
     },
     "execution_count": 88,
     "metadata": {},
     "output_type": "execute_result"
    }
   ],
   "source": [
    "arr.dtype"
   ]
  },
  {
   "cell_type": "code",
   "execution_count": 89,
   "id": "6395b78a-86bf-4890-abd4-780603d7992a",
   "metadata": {},
   "outputs": [],
   "source": [
    "arr2=np.arange(100,dtype=float)"
   ]
  },
  {
   "cell_type": "code",
   "execution_count": 90,
   "id": "b920c216-111d-4d93-8f21-33d95b4b37b4",
   "metadata": {},
   "outputs": [
    {
     "data": {
      "text/plain": [
       "array([ 0.,  1.,  2.,  3.,  4.,  5.,  6.,  7.,  8.,  9., 10., 11., 12.,\n",
       "       13., 14., 15., 16., 17., 18., 19., 20., 21., 22., 23., 24., 25.,\n",
       "       26., 27., 28., 29., 30., 31., 32., 33., 34., 35., 36., 37., 38.,\n",
       "       39., 40., 41., 42., 43., 44., 45., 46., 47., 48., 49., 50., 51.,\n",
       "       52., 53., 54., 55., 56., 57., 58., 59., 60., 61., 62., 63., 64.,\n",
       "       65., 66., 67., 68., 69., 70., 71., 72., 73., 74., 75., 76., 77.,\n",
       "       78., 79., 80., 81., 82., 83., 84., 85., 86., 87., 88., 89., 90.,\n",
       "       91., 92., 93., 94., 95., 96., 97., 98., 99.])"
      ]
     },
     "execution_count": 90,
     "metadata": {},
     "output_type": "execute_result"
    }
   ],
   "source": [
    "arr2"
   ]
  },
  {
   "cell_type": "code",
   "execution_count": 91,
   "id": "38406b3b-4105-447a-9b98-cb12ba5f9569",
   "metadata": {},
   "outputs": [
    {
     "data": {
      "text/plain": [
       "array(['a', 'b'], dtype='<U1')"
      ]
     },
     "execution_count": 91,
     "metadata": {},
     "output_type": "execute_result"
    }
   ],
   "source": [
    "arr3=np.array(['a','b'])\n",
    "arr3"
   ]
  },
  {
   "cell_type": "markdown",
   "id": "3ddacfcd-d20f-457f-a456-96a957dc9433",
   "metadata": {},
   "source": [
    "BİR ARRAYİN DTYPE INI DEĞİŞTİRME"
   ]
  },
  {
   "cell_type": "code",
   "execution_count": 92,
   "id": "c41fd7a6-acb7-4b34-bef1-b2d4c4424ccf",
   "metadata": {},
   "outputs": [
    {
     "data": {
      "text/plain": [
       "dtype('float64')"
      ]
     },
     "execution_count": 92,
     "metadata": {},
     "output_type": "execute_result"
    }
   ],
   "source": [
    "arr2.dtype"
   ]
  },
  {
   "cell_type": "code",
   "execution_count": 93,
   "id": "a964f846-0c24-4579-8382-97194598310e",
   "metadata": {},
   "outputs": [
    {
     "data": {
      "text/plain": [
       "array([ 0,  1,  2,  3,  4,  5,  6,  7,  8,  9, 10, 11, 12, 13, 14, 15, 16,\n",
       "       17, 18, 19, 20, 21, 22, 23, 24, 25, 26, 27, 28, 29, 30, 31, 32, 33,\n",
       "       34, 35, 36, 37, 38, 39, 40, 41, 42, 43, 44, 45, 46, 47, 48, 49, 50,\n",
       "       51, 52, 53, 54, 55, 56, 57, 58, 59, 60, 61, 62, 63, 64, 65, 66, 67,\n",
       "       68, 69, 70, 71, 72, 73, 74, 75, 76, 77, 78, 79, 80, 81, 82, 83, 84,\n",
       "       85, 86, 87, 88, 89, 90, 91, 92, 93, 94, 95, 96, 97, 98, 99])"
      ]
     },
     "execution_count": 93,
     "metadata": {},
     "output_type": "execute_result"
    }
   ],
   "source": [
    " # .astype( methodu ile )\n",
    "arr2.astype('int')"
   ]
  },
  {
   "cell_type": "code",
   "execution_count": null,
   "id": "46d3e494-849c-4b9f-b373-f32e44f09f95",
   "metadata": {},
   "outputs": [],
   "source": []
  }
 ],
 "metadata": {
  "kernelspec": {
   "display_name": "Python 3 (ipykernel)",
   "language": "python",
   "name": "python3"
  },
  "language_info": {
   "codemirror_mode": {
    "name": "ipython",
    "version": 3
   },
   "file_extension": ".py",
   "mimetype": "text/x-python",
   "name": "python",
   "nbconvert_exporter": "python",
   "pygments_lexer": "ipython3",
   "version": "3.13.5"
  }
 },
 "nbformat": 4,
 "nbformat_minor": 5
}
