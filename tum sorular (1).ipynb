{
 "cells": [
  {
   "cell_type": "code",
   "execution_count": 1,
   "id": "d75b5c54-1403-47c3-9dc0-c2112e9fd330",
   "metadata": {},
   "outputs": [
    {
     "name": "stdin",
     "output_type": "stream",
     "text": [
      "lutfen bir sayi giriniz 2222\n"
     ]
    },
    {
     "name": "stdout",
     "output_type": "stream",
     "text": [
      "pozitif cift\n"
     ]
    },
    {
     "name": "stdin",
     "output_type": "stream",
     "text": [
      "bir kelime soyler misin aynurella\n"
     ]
    },
    {
     "name": "stdout",
     "output_type": "stream",
     "text": [
      "{'a': 2, 'y': 1, 'n': 1, 'u': 1, 'r': 1, 'e': 1, 'l': 2}\n"
     ]
    },
    {
     "name": "stdin",
     "output_type": "stream",
     "text": [
      "bir sifre belirleyin aynursena\n"
     ]
    },
    {
     "name": "stdout",
     "output_type": "stream",
     "text": [
      "En az 1 büyük harf icermeli\n",
      "En az 1 rakam icermeli\n",
      "[25, 30, 18]\n",
      "*\n",
      "**\n",
      "***\n",
      "****\n",
      "*****\n"
     ]
    },
    {
     "name": "stdin",
     "output_type": "stream",
     "text": [
      "sayiyi giriniz: 10\n",
      "sayiyi giriniz: 20\n",
      "sayiyi giriniz: 30\n",
      "sayiyi giriniz: 40\n",
      "sayiyi giriniz: 50\n",
      "sayiyi giriniz: 60\n",
      "sayiyi giriniz: 70\n",
      "sayiyi giriniz: 80\n",
      "sayiyi giriniz: 90\n",
      "sayiyi giriniz: 200\n",
      "sayiyi giriniz: 0\n"
     ]
    },
    {
     "name": "stdout",
     "output_type": "stream",
     "text": [
      "sayilarin toplami:650 ortalamasi 65.0\n"
     ]
    },
    {
     "name": "stdin",
     "output_type": "stream",
     "text": [
      "palindrom kontrolu yapacagimiz kelimeyi belirtin kakakak\n"
     ]
    },
    {
     "name": "stdout",
     "output_type": "stream",
     "text": [
      "kakakak palindrom\n",
      "[225, 900, 2025, 3600, 5625, 8100]\n"
     ]
    },
    {
     "name": "stdin",
     "output_type": "stream",
     "text": [
      "bir cumle kurunuz aynurcuk sevdalandı ama bulamıuor\n"
     ]
    },
    {
     "name": "stdout",
     "output_type": "stream",
     "text": [
      "Aynurcuk Sevdalandı Ama Bulamıuor \n"
     ]
    }
   ],
   "source": [
    "\"\"\"Soru 1 – Sayı Analizi\n",
    "Kullanıcıdan bir sayı isteyin.\n",
    "• Sayı pozitif, negatif ya da sıfır mı kontrol edin.\n",
    "• Aynı zamanda tek/çift olup olmadığını da belirtin.\n",
    "• Çıktı örneği: \"Pozitif Çift\" veya \"Negatif Tek\" gibi.\"\"\"\n",
    "\n",
    "sayi=int(input(\"lutfen bir sayi giriniz\"))\n",
    "if(sayi<0):\n",
    "    if(sayi%2==0):\n",
    "        print(\"negatif cift\")\n",
    "    else:\n",
    "        print(\"negatif tek\")\n",
    "        \n",
    "if(sayi>0):\n",
    "    if(sayi%2==0):\n",
    "        print(\"pozitif cift\")\n",
    "    else:\n",
    "        print(\"pozitif tek\")\n",
    "        \n",
    "        \n",
    "        \n",
    "\"\"\"Soru 2 – Harf Frekansı (String)\n",
    "Kullanıcıdan bir kelime alın.\n",
    "• Hangi harften kaç tane geçtiğini bulun.\n",
    "• Sonucu dictionary olarak gösterin.\n",
    "Örnek: \"data\" → {'d': 1, 'a': 2, 't': 1}\"\"\"\n",
    "        \n",
    "kelime=input(\"bir kelime soyler misin\")\n",
    "\n",
    "frekans={}\n",
    "\n",
    "i=0\n",
    "while(len(kelime)>i):\n",
    "    harf=kelime[i]\n",
    "    if harf in frekans:\n",
    "        frekans[harf]+=1\n",
    "    else:\n",
    "        frekans[harf]=1\n",
    "        \n",
    "    i+=1\n",
    "print(frekans)\n",
    "\n",
    "\n",
    "\"\"\"Soru 3 – Şifre Kontrolü (String Metotları)\n",
    "Kullanıcıdan şifre girmesini isteyin. Şifre:\n",
    "• En az 8 karakter olmalı\n",
    "• En az 1 büyük harf içermeli\n",
    "• En az 1 rakam içermeli\n",
    "Koşulları sağlayıp sağlamadığına göre kullanıcıyı bilgilendirin.\"\"\"\n",
    "\n",
    "sifre=input(\"bir sifre belirleyin\")\n",
    "uzunluk=len(sifre)\n",
    "buyukharf=any(harf.isupper() for harf in sifre)\n",
    "rakam=any(harf.isdigit() for harf in sifre)\n",
    "\n",
    "\n",
    "if(uzunluk<8):\n",
    "    print(\"En az 8 karakter olmali\")\n",
    "    if(not buyukharf):\n",
    "        print(\"En az 1 büyük harf icermeli\")\n",
    "    if(not rakam):\n",
    "        print(\"En az 1 rakam icermeli\")\n",
    "        \n",
    "elif(uzunluk>8):\n",
    "    if(not buyukharf):\n",
    "        print(\"En az 1 büyük harf icermeli\")\n",
    "    if(not rakam):\n",
    "        print(\"En az 1 rakam icermeli\")\n",
    "\n",
    "\n",
    "\"\"\"Soru 4 – Liste İşlemleri\n",
    "[12, 4, 9, 25, 30, 7, 18] listesini kullanın.\n",
    "• Listenin ortalamasını bulun.\n",
    "• Ortalamadan büyük sayıları ayrı bir listeye atın.\n",
    "• Sonucu ekrana yazdırın.\"\"\"\n",
    "\n",
    "\n",
    "liste=[12,4,9,25,30,7,18]\n",
    "listuzunluk=len(liste)\n",
    "i=0\n",
    "top=0\n",
    "for i in liste:\n",
    "    top+=i\n",
    "ort=top/listuzunluk\n",
    "\n",
    "f=0\n",
    "listeyeni=[]\n",
    "for f in liste:\n",
    "    if(f>ort):\n",
    "        listeyeni.append(f)\n",
    "        \n",
    "print(listeyeni)      \n",
    "\n",
    "        \n",
    "\"\"\"Soru 5 – Nested Loop (Desen)\n",
    "Aşağıdaki çıktıyı üreten programı yazın (üçgen desen):\n",
    "*\n",
    "**\n",
    "***\n",
    "****\n",
    "*****\"\"\"\n",
    "\n",
    "yildiz='*'\n",
    "while (len(yildiz)<6):\n",
    "    print(yildiz) \n",
    "    yildiz+='*'\n",
    "\n",
    "\n",
    "\n",
    "\"\"\"Soru 6 – While Döngüsü\n",
    "Kullanıcıdan sürekli sayı isteyin.\n",
    "• Kullanıcı 0 girdiğinde program dursun.\n",
    "• Girilen tüm sayıların toplamını ve ortalamasını yazdırın.\"\"\"\n",
    "\n",
    "\n",
    "toplamsayi=0\n",
    "sayac=0\n",
    "while(True):\n",
    "    sayi=int(input(\"sayiyi giriniz:\"))\n",
    "    sayac+=1\n",
    "    if(sayi!=0):\n",
    "        toplamsayi+=sayi\n",
    "    elif(sayi==0):\n",
    "        sayac-=1\n",
    "        break\n",
    "\n",
    "ortalama=toplamsayi/sayac\n",
    "print(\"sayilarin toplami:\"+str(toplamsayi)+\" ortalamasi \"+str(ortalama))\n",
    "\n",
    "\"\"\"Soru 7 – Palindrom Kontrolü\n",
    "Kullanıcıdan bir kelime isteyin.\n",
    "• Kelimenin palindrom olup olmadığını kontrol edin.\n",
    "• Örnek: \"kayak\" → Palindrom , \"python\" → Değil \"\"\"\n",
    "\n",
    "palindrom=input(\"palindrom kontrolu yapacagimiz kelimeyi belirtin\")\n",
    "\n",
    "palindromuzunluk=len(palindrom)\n",
    "bas=0\n",
    "son=palindromuzunluk-1\n",
    "palindromkontrol=1\n",
    "\n",
    "yeni=int(palindromuzunluk/2)\n",
    "while(int(yeni)>0):\n",
    "    if(palindrom[bas]!=palindrom[son]):\n",
    "        palindromkontrol=0\n",
    "        break\n",
    "    yeni-=1\n",
    "    bas+=1\n",
    "    son-=1\n",
    "if(palindromkontrol==0):\n",
    "    print(palindrom+\" palindrom degil\")\n",
    "    \n",
    "else:\n",
    "    print(palindrom+\" palindrom\")\n",
    "    \n",
    "    \n",
    "    \n",
    "\"\"\"Soru 8 – List Comprehension\n",
    "1’den 100’e kadar olan sayılardan:\n",
    "• Hem 3’e hem 5’e bölünebilenlerin karelerini içeren bir liste oluşturun.\n",
    "• Sonucu ekrana yazdırın.\"\"\"\n",
    "\n",
    "sonucliste=[]\n",
    "baslangic=1\n",
    "while(baslangic<=100):\n",
    "    yenisayi=0\n",
    "    if(baslangic%15==0):\n",
    "        yenisayi=baslangic**2\n",
    "        sonucliste.append(yenisayi)\n",
    "    baslangic+=1\n",
    "print(sonucliste)\n",
    "\n",
    "\n",
    "\n",
    "\"\"\"Soru 9 – String İşlemleri\n",
    "Bir cümle alın.\n",
    "• Cümledeki kelimeleri split() ile ayırın.\n",
    "• Her kelimenin ilk harfini büyük yaparak yeni bir string oluşturun.\n",
    "• Örnek: \"python veri bilimi\" → \"Python Veri Bilimi\"\"\"\n",
    "\n",
    "cumle=input(\"bir cumle kurunuz\")\n",
    "cumleliste=cumle.split()\n",
    "\n",
    "sonuccumle=\"\"\n",
    "\n",
    "for kelime in cumleliste:\n",
    "    kelimeyeni=kelime.capitalize()\n",
    "    sonuccumle +=kelimeyeni+\" \"\n",
    "\n",
    "print(sonuccumle)\n",
    "\n",
    "\n",
    "\n"
   ]
  },
  {
   "cell_type": "code",
   "execution_count": null,
   "id": "2b08fa5f-6b8c-4adb-b5ac-93a460d0625d",
   "metadata": {},
   "outputs": [],
   "source": []
  }
 ],
 "metadata": {
  "kernelspec": {
   "display_name": "Python 3 (ipykernel)",
   "language": "python",
   "name": "python3"
  },
  "language_info": {
   "codemirror_mode": {
    "name": "ipython",
    "version": 3
   },
   "file_extension": ".py",
   "mimetype": "text/x-python",
   "name": "python",
   "nbconvert_exporter": "python",
   "pygments_lexer": "ipython3",
   "version": "3.13.5"
  }
 },
 "nbformat": 4,
 "nbformat_minor": 5
}
