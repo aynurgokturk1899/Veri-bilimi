{
 "cells": [
  {
   "cell_type": "markdown",
   "id": "5110e671-bc32-4308-8daa-281e21a6018f",
   "metadata": {},
   "source": [
    "PANDAS NEDİR"
   ]
  },
  {
   "cell_type": "code",
   "execution_count": 1,
   "id": "884984dc-c788-4456-af5e-79cf849fe43d",
   "metadata": {},
   "outputs": [],
   "source": [
    "# pandas açık kaynaklı ve ücretsiz veri işleme, manipüle etme,temizleme gibi işlemleri yaptığımız bir kütüphanedir\n",
    "# pandas kütüp numpy kütüphanesi üzerine lurulmış bir kütüp. arka tarafta büyük bir alanda numpy çalışıyor\n",
    "# sütun bazlı çalışır numpy satır bazlı çalışır numpy çok hızlıdır pandas ta numpy den aldığı için hızlıdr\n",
    "# pandas elimizdeki veriyi bilgiyi şekillendirip işlememize ve sonuç çıkarmamıza olanak sağlar\n",
    "# A/B testleri de pandas ile anlamlı sonuçlar çıkarmamızı sağlar\n",
    "# pandas kütüphanesinin temel elemanları Series ve DataFramedir\n",
    "#  Series ve DataFrame nesnelerini excel tabloları gibi düşüneülebilir"
   ]
  },
  {
   "cell_type": "code",
   "execution_count": 2,
   "id": "3d3f9b9f-04cd-4bc9-a474-73c12ccff816",
   "metadata": {},
   "outputs": [],
   "source": [
    "# Series lerde indexler var sütünlar adlandırılmamış column şeklinde değildir dictionary gibi düşünebiliriz\n",
    "# DataFrame de indexler var birden fazla column dan oluşmuştur"
   ]
  },
  {
   "cell_type": "markdown",
   "id": "a8888023-604e-48ef-ae9c-42d417252742",
   "metadata": {},
   "source": [
    "PANDAS İMPORT ETME"
   ]
  },
  {
   "cell_type": "code",
   "execution_count": 4,
   "id": "d001621f-8abc-4f3a-a83d-d1d43118d102",
   "metadata": {},
   "outputs": [
    {
     "name": "stdout",
     "output_type": "stream",
     "text": [
      "Requirement already satisfied: pandas in c:\\users\\hp\\anaconda3\\lib\\site-packages (2.2.3)\n",
      "Requirement already satisfied: numpy>=1.26.0 in c:\\users\\hp\\anaconda3\\lib\\site-packages (from pandas) (2.1.3)\n",
      "Requirement already satisfied: python-dateutil>=2.8.2 in c:\\users\\hp\\anaconda3\\lib\\site-packages (from pandas) (2.9.0.post0)\n",
      "Requirement already satisfied: pytz>=2020.1 in c:\\users\\hp\\anaconda3\\lib\\site-packages (from pandas) (2024.1)\n",
      "Requirement already satisfied: tzdata>=2022.7 in c:\\users\\hp\\anaconda3\\lib\\site-packages (from pandas) (2025.2)\n",
      "Requirement already satisfied: six>=1.5 in c:\\users\\hp\\anaconda3\\lib\\site-packages (from python-dateutil>=2.8.2->pandas) (1.17.0)\n"
     ]
    }
   ],
   "source": [
    "!pip install pandas"
   ]
  },
  {
   "cell_type": "markdown",
   "id": "b413e465-248c-422d-a20a-87457d957777",
   "metadata": {},
   "source": [
    "SERİES OLUŞTURMA"
   ]
  },
  {
   "cell_type": "code",
   "execution_count": 7,
   "id": "3156c68a-82dd-4b7c-aa44-7d4f36f8b00b",
   "metadata": {},
   "outputs": [],
   "source": [
    "import pandas as pd\n",
    "import numpy as np"
   ]
  },
  {
   "cell_type": "code",
   "execution_count": 8,
   "id": "ecdab2a7-cb87-4d36-aaad-62fed2963ff7",
   "metadata": {},
   "outputs": [
    {
     "data": {
      "text/plain": [
       "['Emircan', 'Alper', 'Zeynep']"
      ]
     },
     "execution_count": 8,
     "metadata": {},
     "output_type": "execute_result"
    }
   ],
   "source": [
    "# seri için elimde bir bilgi olmalı kendi bilgimizi kendimiz oluşturalım\n",
    "my_data=['Emircan','Alper','Zeynep']\n",
    "my_data"
   ]
  },
  {
   "cell_type": "code",
   "execution_count": 9,
   "id": "5cd86d8e-59ae-4a82-898b-46a9b10b24c8",
   "metadata": {},
   "outputs": [
    {
     "data": {
      "text/plain": [
       "0    Emircan\n",
       "1      Alper\n",
       "2     Zeynep\n",
       "dtype: object"
      ]
     },
     "execution_count": 9,
     "metadata": {},
     "output_type": "execute_result"
    }
   ],
   "source": [
    "# pd.Series() fonk ile elimizdeki verileri Series haline getirebiliriz\n",
    "pd.Series(my_data)  # data=None, inedex=None, dtype=None\n"
   ]
  },
  {
   "cell_type": "code",
   "execution_count": 11,
   "id": "7c2fd7dc-b53e-4a53-ba33-1025b4235613",
   "metadata": {},
   "outputs": [],
   "source": [
    "my_date=[1923,1775,1853] \n",
    "my_ind=['Türkiye','USA','Canada']"
   ]
  },
  {
   "cell_type": "code",
   "execution_count": 12,
   "id": "6d8e2434-e219-4af9-86ff-dd98aac474c8",
   "metadata": {},
   "outputs": [
    {
     "data": {
      "text/plain": [
       "Türkiye    1923\n",
       "USA        1775\n",
       "Canada     1853\n",
       "dtype: int64"
      ]
     },
     "execution_count": 12,
     "metadata": {},
     "output_type": "execute_result"
    }
   ],
   "source": [
    "pd.Series(my_date,my_ind)"
   ]
  },
  {
   "cell_type": "code",
   "execution_count": 13,
   "id": "bb512886-0afc-4dd2-b563-20d805174864",
   "metadata": {},
   "outputs": [
    {
     "data": {
      "text/plain": [
       "Türkiye    1923\n",
       "USA        1775\n",
       "Canada     1853\n",
       "dtype: int64"
      ]
     },
     "execution_count": 13,
     "metadata": {},
     "output_type": "execute_result"
    }
   ],
   "source": [
    "pd.Series(data=my_date, index=my_ind)"
   ]
  },
  {
   "cell_type": "code",
   "execution_count": 14,
   "id": "0401d6da-f8c4-4698-95bb-d09298ff7646",
   "metadata": {},
   "outputs": [],
   "source": [
    "# pd.Series() fonk içerisine dictionary de alabilir dictionary nin keyleri indexleri valulaeri değer olur"
   ]
  },
  {
   "cell_type": "code",
   "execution_count": 15,
   "id": "925bc8c1-e2e0-4a5b-91c1-6f3caa9acb14",
   "metadata": {},
   "outputs": [],
   "source": [
    "my_dict={ \n",
    "    'Emircan':26,\n",
    "    'Kaan':23,\n",
    "    'Ayşe':21,\n",
    "    'Deniz':29\n",
    "}"
   ]
  },
  {
   "cell_type": "code",
   "execution_count": 16,
   "id": "44e417d6-bca5-4e92-8ab0-a09aa96582e9",
   "metadata": {},
   "outputs": [
    {
     "data": {
      "text/plain": [
       "{'Emircan': 26, 'Kaan': 23, 'Ayşe': 21, 'Deniz': 29}"
      ]
     },
     "execution_count": 16,
     "metadata": {},
     "output_type": "execute_result"
    }
   ],
   "source": [
    "my_dict"
   ]
  },
  {
   "cell_type": "code",
   "execution_count": 17,
   "id": "6f9ebe47-50ae-4064-b21e-1d1e9c1c65c0",
   "metadata": {},
   "outputs": [
    {
     "data": {
      "text/plain": [
       "Emircan    26\n",
       "Kaan       23\n",
       "Ayşe       21\n",
       "Deniz      29\n",
       "dtype: int64"
      ]
     },
     "execution_count": 17,
     "metadata": {},
     "output_type": "execute_result"
    }
   ],
   "source": [
    "pd.Series(data=my_dict)"
   ]
  },
  {
   "cell_type": "code",
   "execution_count": 21,
   "id": "95f1932d-f65d-4bc4-b98f-37a3a8b12335",
   "metadata": {},
   "outputs": [
    {
     "data": {
      "text/plain": [
       "İstanbul    15.4\n",
       "İzmir        4.3\n",
       "Ankara       5.6\n",
       "Bursa        3.0\n",
       "dtype: float64"
      ]
     },
     "execution_count": 21,
     "metadata": {},
     "output_type": "execute_result"
    }
   ],
   "source": [
    "sehir=['İstanbul','İzmir','Ankara','Bursa']\n",
    "deger=[15.4,4.3,5.6,3]\n",
    "pd.Series(data=deger, index=sehir)\n"
   ]
  },
  {
   "cell_type": "code",
   "execution_count": 22,
   "id": "80161a8e-e6e6-45da-9087-f8549b8641a9",
   "metadata": {},
   "outputs": [],
   "source": [
    "dict={\n",
    "    'İstanbul':15.4,\n",
    "    'İzmir':4.3,\n",
    "    'Ankara':5.6,\n",
    "    'Bursa':3\n",
    "}\n"
   ]
  },
  {
   "cell_type": "code",
   "execution_count": 24,
   "id": "78c75468-ab0d-41d4-be45-0e09d85d6756",
   "metadata": {},
   "outputs": [
    {
     "data": {
      "text/plain": [
       "İstanbul    15.4\n",
       "İzmir        4.3\n",
       "Ankara       5.6\n",
       "Bursa        3.0\n",
       "dtype: float64"
      ]
     },
     "execution_count": 24,
     "metadata": {},
     "output_type": "execute_result"
    }
   ],
   "source": [
    "pd.Series(dict)"
   ]
  },
  {
   "cell_type": "markdown",
   "id": "742a1570-b4fc-4c24-9820-0a6485ecf5e2",
   "metadata": {},
   "source": [
    "SERİLERDE İŞLEMLER"
   ]
  },
  {
   "cell_type": "code",
   "execution_count": 25,
   "id": "db302731-df03-4e4e-8294-3ab722863604",
   "metadata": {},
   "outputs": [],
   "source": [
    "q1={'japan':80,'China':450,'Turkey':150,'İndia':200}\n",
    "q2={'japan':809,'China':40,'Turkey':1900,'İndia':20}\n"
   ]
  },
  {
   "cell_type": "code",
   "execution_count": 27,
   "id": "a82d0572-1c5c-4875-b7c5-f4fba0c32222",
   "metadata": {},
   "outputs": [
    {
     "data": {
      "text/plain": [
       "japan      80\n",
       "China     450\n",
       "Turkey    150\n",
       "İndia     200\n",
       "dtype: int64"
      ]
     },
     "execution_count": 27,
     "metadata": {},
     "output_type": "execute_result"
    }
   ],
   "source": [
    "sales_q1=pd.Series(q1)\n",
    "sales_q1"
   ]
  },
  {
   "cell_type": "code",
   "execution_count": 28,
   "id": "eec88e3c-bcc5-4394-8219-1d4f43b31c17",
   "metadata": {},
   "outputs": [
    {
     "data": {
      "text/plain": [
       "japan      809\n",
       "China       40\n",
       "Turkey    1900\n",
       "İndia       20\n",
       "dtype: int64"
      ]
     },
     "execution_count": 28,
     "metadata": {},
     "output_type": "execute_result"
    }
   ],
   "source": [
    "sales_q2=pd.Series(q2)\n",
    "sales_q2"
   ]
  },
  {
   "cell_type": "code",
   "execution_count": 30,
   "id": "2eb6e745-00b7-4713-aafc-3d9134820860",
   "metadata": {},
   "outputs": [
    {
     "data": {
      "text/plain": [
       "japan      889\n",
       "China      490\n",
       "Turkey    2050\n",
       "İndia      220\n",
       "dtype: int64"
      ]
     },
     "execution_count": 30,
     "metadata": {},
     "output_type": "execute_result"
    }
   ],
   "source": [
    "sales_total=sales_q1+sales_q2\n",
    "sales_total"
   ]
  },
  {
   "cell_type": "code",
   "execution_count": 31,
   "id": "16fc9f2e-a988-4569-a4f8-296d2bf2decf",
   "metadata": {},
   "outputs": [
    {
     "data": {
      "text/plain": [
       "Index(['japan', 'China', 'Turkey', 'İndia'], dtype='object')"
      ]
     },
     "execution_count": 31,
     "metadata": {},
     "output_type": "execute_result"
    }
   ],
   "source": [
    "sales_total.index  # .index attribute ı ild bakabikiriz"
   ]
  },
  {
   "cell_type": "code",
   "execution_count": 33,
   "id": "7eec93be-05e3-43f5-8525-2934392047bb",
   "metadata": {},
   "outputs": [
    {
     "data": {
      "text/plain": [
       "Index(['japan', 'China', 'Turkey', 'İndia'], dtype='object')"
      ]
     },
     "execution_count": 33,
     "metadata": {},
     "output_type": "execute_result"
    }
   ],
   "source": [
    "sales_total.keys()   # .keys() methoduyla bakabiliriz"
   ]
  },
  {
   "cell_type": "code",
   "execution_count": 35,
   "id": "f72b3e6f-acf8-4577-91f5-8c1180335b40",
   "metadata": {},
   "outputs": [
    {
     "data": {
      "text/plain": [
       "array([ 889,  490, 2050,  220])"
      ]
     },
     "execution_count": 35,
     "metadata": {},
     "output_type": "execute_result"
    }
   ],
   "source": [
    "sales_total.values"
   ]
  },
  {
   "cell_type": "code",
   "execution_count": 36,
   "id": "6a77539c-8552-482f-963a-f9b772dfc199",
   "metadata": {},
   "outputs": [
    {
     "data": {
      "text/plain": [
       "japan      889\n",
       "China      490\n",
       "Turkey    2050\n",
       "İndia      220\n",
       "dtype: int64"
      ]
     },
     "execution_count": 36,
     "metadata": {},
     "output_type": "execute_result"
    }
   ],
   "source": [
    "sales_total"
   ]
  },
  {
   "cell_type": "code",
   "execution_count": 37,
   "id": "4e966d68-9d29-4335-98e9-003f31d2de90",
   "metadata": {},
   "outputs": [
    {
     "data": {
      "text/plain": [
       "japan      790321\n",
       "China      240100\n",
       "Turkey    4202500\n",
       "İndia       48400\n",
       "dtype: int64"
      ]
     },
     "execution_count": 37,
     "metadata": {},
     "output_type": "execute_result"
    }
   ],
   "source": [
    "sales_total**2"
   ]
  },
  {
   "cell_type": "code",
   "execution_count": 39,
   "id": "7e1dd4e7-2a92-4405-80fa-0b974d39bd86",
   "metadata": {},
   "outputs": [
    {
     "data": {
      "text/plain": [
       "japan      729\n",
       "China     -410\n",
       "Turkey    1750\n",
       "İndia     -180\n",
       "dtype: int64"
      ]
     },
     "execution_count": 39,
     "metadata": {},
     "output_type": "execute_result"
    }
   ],
   "source": [
    "sales_q2-sales_q1"
   ]
  },
  {
   "cell_type": "code",
   "execution_count": 40,
   "id": "147858db-3714-4155-baed-9a4ae2866dc9",
   "metadata": {},
   "outputs": [],
   "source": [
    "q1={'japan':80,'China':450,'İndia':150,'USA':200}\n",
    "q2={'brazil':809,'China':40,'İndia':1900,'USA':20}"
   ]
  },
  {
   "cell_type": "code",
   "execution_count": 41,
   "id": "476accc5-87b7-479f-8369-9a83382987c1",
   "metadata": {},
   "outputs": [],
   "source": [
    "sales_q1=pd.Series(q1)\n",
    "sales_q2=pd.Series(q2)"
   ]
  },
  {
   "cell_type": "code",
   "execution_count": 42,
   "id": "ddb4217a-1f83-42a5-aced-bfd485b51929",
   "metadata": {},
   "outputs": [
    {
     "data": {
      "text/plain": [
       "japan     80\n",
       "China    450\n",
       "İndia    150\n",
       "USA      200\n",
       "dtype: int64"
      ]
     },
     "execution_count": 42,
     "metadata": {},
     "output_type": "execute_result"
    }
   ],
   "source": [
    "sales_q1"
   ]
  },
  {
   "cell_type": "code",
   "execution_count": 43,
   "id": "6c7f933d-a728-4356-b682-9f9e44501ed2",
   "metadata": {},
   "outputs": [
    {
     "data": {
      "text/plain": [
       "brazil     809\n",
       "China       40\n",
       "İndia     1900\n",
       "USA         20\n",
       "dtype: int64"
      ]
     },
     "execution_count": 43,
     "metadata": {},
     "output_type": "execute_result"
    }
   ],
   "source": [
    "sales_q2"
   ]
  },
  {
   "cell_type": "code",
   "execution_count": 44,
   "id": "7f14da24-dc7c-4c82-9267-626d9ef2863c",
   "metadata": {},
   "outputs": [
    {
     "data": {
      "text/plain": [
       "China      490.0\n",
       "USA        220.0\n",
       "brazil       NaN\n",
       "japan        NaN\n",
       "İndia     2050.0\n",
       "dtype: float64"
      ]
     },
     "execution_count": 44,
     "metadata": {},
     "output_type": "execute_result"
    }
   ],
   "source": [
    "sales_q1+sales_q2"
   ]
  },
  {
   "cell_type": "code",
   "execution_count": 47,
   "id": "f524f50e-f85e-48ee-9cf5-c8b0a29a0e77",
   "metadata": {},
   "outputs": [
    {
     "data": {
      "text/plain": [
       "China      490.0\n",
       "USA        220.0\n",
       "brazil       NaN\n",
       "japan        NaN\n",
       "İndia     2050.0\n",
       "dtype: float64"
      ]
     },
     "execution_count": 47,
     "metadata": {},
     "output_type": "execute_result"
    }
   ],
   "source": [
    "sales_q1.add(sales_q2)"
   ]
  },
  {
   "cell_type": "code",
   "execution_count": 49,
   "id": "f02f0f4e-a6ca-4fd7-b18c-0db2d72f9faf",
   "metadata": {},
   "outputs": [
    {
     "data": {
      "text/plain": [
       "China      490.0\n",
       "USA        220.0\n",
       "brazil     809.0\n",
       "japan       80.0\n",
       "İndia     2050.0\n",
       "dtype: float64"
      ]
     },
     "execution_count": 49,
     "metadata": {},
     "output_type": "execute_result"
    }
   ],
   "source": [
    "sales_q1.add(sales_q2,fill_value=0)"
   ]
  },
  {
   "cell_type": "code",
   "execution_count": 51,
   "id": "a9898035-7d07-4768-b545-09c0324f1029",
   "metadata": {},
   "outputs": [
    {
     "data": {
      "text/plain": [
       "dtype('int64')"
      ]
     },
     "execution_count": 51,
     "metadata": {},
     "output_type": "execute_result"
    }
   ],
   "source": [
    "sales_q1.dtype  # .dtype attribute ı ile içindeki verilerin tiplerini çekebiliriz"
   ]
  },
  {
   "cell_type": "code",
   "execution_count": 66,
   "id": "edb8f881-b2bb-4980-87b0-b0d094cc25e2",
   "metadata": {},
   "outputs": [],
   "source": [
    "takım1=['Fener','Galata','Besik','Trabzon',]\n",
    "deger1=[51,60,48,41]\n",
    "deger2=[73,68,59,81]\n",
    "deger3=[82,84,84,71]\n",
    "league22=pd.Series(deger1,takım1)\n",
    "league23=pd.Series(deger2,takım1)\n",
    "league24=pd.Series(deger3,takım1)\n",
    "\n"
   ]
  },
  {
   "cell_type": "code",
   "execution_count": 67,
   "id": "32f253cd-935c-4460-8965-bdb9bd127f07",
   "metadata": {},
   "outputs": [
    {
     "data": {
      "text/plain": [
       "Fener      73\n",
       "Galata     68\n",
       "Besik      59\n",
       "Trabzon    81\n",
       "dtype: int64"
      ]
     },
     "execution_count": 67,
     "metadata": {},
     "output_type": "execute_result"
    }
   ],
   "source": [
    "league23"
   ]
  },
  {
   "cell_type": "code",
   "execution_count": 68,
   "id": "a5497eb6-d115-47af-8548-ec5cfbae7888",
   "metadata": {},
   "outputs": [
    {
     "data": {
      "text/plain": [
       "Fener      51\n",
       "Galata     60\n",
       "Besik      48\n",
       "Trabzon    41\n",
       "dtype: int64"
      ]
     },
     "execution_count": 68,
     "metadata": {},
     "output_type": "execute_result"
    }
   ],
   "source": [
    "league22"
   ]
  },
  {
   "cell_type": "code",
   "execution_count": 69,
   "id": "5f30e126-90bb-4056-8985-07ae9256901d",
   "metadata": {},
   "outputs": [
    {
     "data": {
      "text/plain": [
       "Fener      82\n",
       "Galata     84\n",
       "Besik      84\n",
       "Trabzon    71\n",
       "dtype: int64"
      ]
     },
     "execution_count": 69,
     "metadata": {},
     "output_type": "execute_result"
    }
   ],
   "source": [
    "league24"
   ]
  },
  {
   "cell_type": "code",
   "execution_count": 70,
   "id": "cd2cbe94-b136-4426-9aa3-34198e9c1fd5",
   "metadata": {},
   "outputs": [],
   "source": [
    "league22=pd.Series(data={'Fener':51,'Galata':60,'Besik':59,'Trabzon':81})   # hoca böyle yaptı"
   ]
  },
  {
   "cell_type": "code",
   "execution_count": 71,
   "id": "c01236be-b8dd-48ae-8e7b-02e8cf075b5f",
   "metadata": {},
   "outputs": [
    {
     "data": {
      "text/plain": [
       "Fener      51\n",
       "Galata     60\n",
       "Besik      59\n",
       "Trabzon    81\n",
       "dtype: int64"
      ]
     },
     "execution_count": 71,
     "metadata": {},
     "output_type": "execute_result"
    }
   ],
   "source": [
    "league22"
   ]
  },
  {
   "cell_type": "code",
   "execution_count": 72,
   "id": "164f4424-d648-4b7b-83ac-cf4c21ed9212",
   "metadata": {},
   "outputs": [
    {
     "data": {
      "text/plain": [
       "Fener      206\n",
       "Galata     212\n",
       "Besik      202\n",
       "Trabzon    233\n",
       "dtype: int64"
      ]
     },
     "execution_count": 72,
     "metadata": {},
     "output_type": "execute_result"
    }
   ],
   "source": [
    "league22+league23+league24"
   ]
  },
  {
   "cell_type": "code",
   "execution_count": null,
   "id": "a64d3361-ef61-470a-a239-8429665a3533",
   "metadata": {},
   "outputs": [],
   "source": []
  }
 ],
 "metadata": {
  "kernelspec": {
   "display_name": "Python 3 (ipykernel)",
   "language": "python",
   "name": "python3"
  },
  "language_info": {
   "codemirror_mode": {
    "name": "ipython",
    "version": 3
   },
   "file_extension": ".py",
   "mimetype": "text/x-python",
   "name": "python",
   "nbconvert_exporter": "python",
   "pygments_lexer": "ipython3",
   "version": "3.13.5"
  }
 },
 "nbformat": 4,
 "nbformat_minor": 5
}
