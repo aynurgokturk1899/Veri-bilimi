{
 "cells": [
  {
   "cell_type": "code",
   "execution_count": 2,
   "id": "3d3aad88-d689-45c9-ac37-ade9c5fe4bfb",
   "metadata": {},
   "outputs": [
    {
     "name": "stdin",
     "output_type": "stream",
     "text": [
      "1. yorumu giriniz çok iyiydi\n",
      "2. yorumu giriniz fena degişdi\n",
      "3. yorumu giriniz ben pek beğenmedim\n",
      "4. yorumu giriniz bence daha güzel olabilirdi iyi değildi\n",
      "5. yorumu giriniz bence harikaydı on numara filmdi iyi ne demek iyiden de öte iyi bir film\n"
     ]
    },
    {
     "name": "stdout",
     "output_type": "stream",
     "text": [
      "çok iyiydi->10 karakter\n",
      "fena degişdi->12 karakter\n",
      "ben pek beğenmedim->18 karakter\n",
      "bence daha güzel olabilirdi iyi değildi->39 karakter\n",
      "bence harikaydı on numara filmdi iyi ne demek iyiden de öte iyi bir film->72 karakter\n",
      "['çok iyiydi', 'fena degişdi', 'ben pek beğenmedim', 'bence daha güzel olabilirdi iyi değildi', 'bence harikaydı on numara filmdi iyi ne demek iyiden de öte iyi bir film']\n",
      "yorumlarda iyi sayisi toplam 3 yerde gecmekte\n",
      "en uzun yorum  bence harikaydı on numara filmdi iyi ne demek iyiden de öte iyi bir film 72 karakterli\n",
      "en kisa yorum  çok iyiydi 10 karakterli\n",
      "tum yorumların ortalama karakter uzunlugu 30.2\n"
     ]
    }
   ],
   "source": [
    "\"\"\"Mini Proje – Film Yorumu Analizi\n",
    "Proje Tanımı:\n",
    "Kullanıcıdan birkaç film yorumu alın (örneğin 5–6 yorum).\n",
    "- Yorumları bir listeye atın.\n",
    "- Her yorumun uzunluğunu (karakter sayısı) bulun.\n",
    "- Kaç yorumda \"iyi\" kelimesi geçtiğini sayın.\n",
    "- En uzun yorumu ve en kısa yorumu ekrana yazdırın.\n",
    "- Tüm yorumların ortalama uzunluğunu hesaplayın\"\"\"\n",
    "\n",
    "devam=0\n",
    "yorumlar=[]\n",
    "topiyi=0\n",
    "\n",
    "\n",
    "for i in range(5):\n",
    "    yorum=input(f\"{i+1}. yorumu giriniz\")\n",
    "    yorumlar.append(yorum)\n",
    "    \n",
    "for j in yorumlar:\n",
    "    print(f\"{j}->{len(j)} karakter\")\n",
    "   \n",
    "    \n",
    "print(str(yorumlar))\n",
    "for k in yorumlar:\n",
    "    if \"iyi\" in k.lower():\n",
    "        topiyi+=1\n",
    "\n",
    "print(\"yorumlarda iyi sayisi toplam \"+f\"{topiyi}\"+ \" yerde gecmekte\")\n",
    "\n",
    "enuzunyorum=max(yorumlar,key=len)\n",
    "enkisayorum=min(yorumlar,key=len)\n",
    "print(f\"en uzun yorum  {enuzunyorum} {len(enuzunyorum)} karakterli\")\n",
    "print(f\"en kisa yorum  {enkisayorum} {len(enkisayorum)} karakterli\")\n",
    "\n",
    "toplamkarakter=0\n",
    "ort=0\n",
    "for l in yorumlar:\n",
    "    toplamkarakter +=len(l)\n",
    "    ort=toplamkarakter/5\n",
    "print(\"tum yorumların ortalama karakter uzunlugu \"+str(ort))"
   ]
  },
  {
   "cell_type": "code",
   "execution_count": null,
   "id": "cdcbb49b-82ba-4835-899a-e93e556928e9",
   "metadata": {},
   "outputs": [],
   "source": []
  }
 ],
 "metadata": {
  "kernelspec": {
   "display_name": "Python 3 (ipykernel)",
   "language": "python",
   "name": "python3"
  },
  "language_info": {
   "codemirror_mode": {
    "name": "ipython",
    "version": 3
   },
   "file_extension": ".py",
   "mimetype": "text/x-python",
   "name": "python",
   "nbconvert_exporter": "python",
   "pygments_lexer": "ipython3",
   "version": "3.13.5"
  }
 },
 "nbformat": 4,
 "nbformat_minor": 5
}
