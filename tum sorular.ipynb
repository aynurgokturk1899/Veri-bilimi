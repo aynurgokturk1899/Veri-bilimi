{
 "cells": [
  {
   "cell_type": "code",
   "execution_count": null,
   "id": "d75b5c54-1403-47c3-9dc0-c2112e9fd330",
   "metadata": {},
   "outputs": [],
   "source": []
  }
 ],
 "metadata": {
  "kernelspec": {
   "display_name": "",
   "name": ""
  },
  "language_info": {
   "name": ""
  }
 },
 "nbformat": 4,
 "nbformat_minor": 5
}
