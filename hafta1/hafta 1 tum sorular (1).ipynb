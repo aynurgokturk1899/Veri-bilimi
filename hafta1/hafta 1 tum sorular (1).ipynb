{
 "cells": [
  {
   "cell_type": "code",
   "execution_count": 1,
   "id": "67f8a501-7450-493c-8a0e-974faf2213d3",
   "metadata": {},
   "outputs": [
    {
     "name": "stdin",
     "output_type": "stream",
     "text": [
      "isminizi öğrenebilir miyim?  aynur\n",
      "yasinizi öğrenebilir miyim?  20\n"
     ]
    },
    {
     "name": "stdout",
     "output_type": "stream",
     "text": [
      "ehliyet alabilirsiniz\n"
     ]
    },
    {
     "name": "stdin",
     "output_type": "stream",
     "text": [
      "boyunuzu öğrenebilir miyim?  168\n"
     ]
    },
    {
     "name": "stdout",
     "output_type": "stream",
     "text": [
      "merhaba aynur20 yasinda 168.0 boyunda ogrencimizsin sana birkac sorumuz olacakti devam etmek ister misin evet/hayır demen yeterli\n"
     ]
    },
    {
     "name": "stdin",
     "output_type": "stream",
     "text": [
      "evet mi hayir mi?  evet\n"
     ]
    },
    {
     "name": "stdout",
     "output_type": "stream",
     "text": [
      "derslerden aldigin notu ogrenmemiz gerekiyor matematikten başlayalim 100 uzerinden kac puan aldin? \n"
     ]
    },
    {
     "name": "stdin",
     "output_type": "stream",
     "text": [
      "0-100 puan yazmaniz gerekiyor 100\n"
     ]
    },
    {
     "name": "stdout",
     "output_type": "stream",
     "text": [
      "fizik dersinden 100 uzerinden kac puan aldin? \n"
     ]
    },
    {
     "name": "stdin",
     "output_type": "stream",
     "text": [
      "0-100 puan yazmaniz gerekiyor 100\n"
     ]
    },
    {
     "name": "stdout",
     "output_type": "stream",
     "text": [
      "kimya dersinden 100 uzerinden kac puan aldin? \n"
     ]
    },
    {
     "name": "stdin",
     "output_type": "stream",
     "text": [
      "0-100 puan yazmaniz gerekiyor 99\n"
     ]
    },
    {
     "name": "stdout",
     "output_type": "stream",
     "text": [
      "ortalaman 99.66666666666667\n",
      "Gectiniz\n"
     ]
    },
    {
     "name": "stdin",
     "output_type": "stream",
     "text": [
      "Bana bir kelime soyle:  aynurella\n"
     ]
    },
    {
     "name": "stdout",
     "output_type": "stream",
     "text": [
      "Karakter sayisi: 9\n",
      "İlk harf: a\n",
      "Son harf: a\n",
      "a\n",
      "l\n",
      "l\n",
      "e\n",
      "r\n",
      "u\n",
      "n\n",
      "y\n",
      "a\n"
     ]
    },
    {
     "name": "stdin",
     "output_type": "stream",
     "text": [
      "bana ilk sayiyi söyle 12\n",
      "bana ikinci sayiyi söyle 34\n"
     ]
    },
    {
     "name": "stdout",
     "output_type": "stream",
     "text": [
      "toplami 46 farki -22 bolumu 0.35294117647058826 carpimi 408 modu 12\n"
     ]
    },
    {
     "name": "stdin",
     "output_type": "stream",
     "text": [
      "ilk urun ne kadar 45\n",
      "ikinci urun ne kadar 900\n",
      "ucuncu urun ne kadar 34\n"
     ]
    },
    {
     "name": "stdout",
     "output_type": "stream",
     "text": [
      "toplam urun: 979\n",
      "son fiyat:97.9\n"
     ]
    },
    {
     "name": "stdin",
     "output_type": "stream",
     "text": [
      "hangi yil dogdunuz 2020\n"
     ]
    },
    {
     "ename": "TypeError",
     "evalue": "can only concatenate str (not \"int\") to str",
     "output_type": "error",
     "traceback": [
      "\u001b[1;31m---------------------------------------------------------------------------\u001b[0m",
      "\u001b[1;31mTypeError\u001b[0m                                 Traceback (most recent call last)",
      "Cell \u001b[1;32mIn[1], line 78\u001b[0m\n\u001b[0;32m     76\u001b[0m dgmtarih\u001b[38;5;241m=\u001b[39m\u001b[38;5;28mint\u001b[39m(\u001b[38;5;28minput\u001b[39m(\u001b[38;5;124m\"\u001b[39m\u001b[38;5;124mhangi yil dogdunuz\u001b[39m\u001b[38;5;124m\"\u001b[39m))\n\u001b[0;32m     77\u001b[0m yas\u001b[38;5;241m=\u001b[39m\u001b[38;5;241m2025\u001b[39m\u001b[38;5;241m-\u001b[39mdgmtarih\n\u001b[1;32m---> 78\u001b[0m \u001b[38;5;28mprint\u001b[39m(\u001b[38;5;124m\"\u001b[39m\u001b[38;5;124myasiniz \u001b[39m\u001b[38;5;124m\"\u001b[39m\u001b[38;5;241m+\u001b[39mdgmtarih)\n",
      "\u001b[1;31mTypeError\u001b[0m: can only concatenate str (not \"int\") to str"
     ]
    }
   ],
   "source": [
    "name=input(\"isminizi öğrenebilir miyim? \")\n",
    "age=int(input(\"yasinizi öğrenebilir miyim? \"))\n",
    "if(age<18):\n",
    "    print(\"ehliyet alamazsiniz\")\n",
    "else:\n",
    "    print(\"ehliyet alabilirsiniz\")\n",
    "height=float(input(\"boyunuzu öğrenebilir miyim? \"))\n",
    "\n",
    "\n",
    "print(\"merhaba \"+str(name)+str(age)+\" yasinda \"+str(height)+\" boyunda ogrencimizsin sana birkac sorumuz olacakti devam etmek ister misin evet/hayır demen yeterli\")\n",
    "decision=input(\"evet mi hayir mi? \")\n",
    "if (decision==\"evet\"):\n",
    "    print(\"derslerden aldigin notu ogrenmemiz gerekiyor matematikten başlayalim 100 uzerinden kac puan aldin? \")\n",
    "    mat=int(input(\"0-100 puan yazmaniz gerekiyor\"))\n",
    "    print(\"fizik dersinden 100 uzerinden kac puan aldin? \")\n",
    "    fiz=int(input(\"0-100 puan yazmaniz gerekiyor\"))\n",
    "    print(\"kimya dersinden 100 uzerinden kac puan aldin? \")\n",
    "    kim=int(input(\"0-100 puan yazmaniz gerekiyor\"))\n",
    "    ort=float((kim+fiz+mat)/3)\n",
    "    print(\"ortalaman \"+str(ort)+\"\")\n",
    "    \n",
    "    if(ort>=50):\n",
    "        print(\"Gectiniz\")\n",
    "    elif(ort<50):\n",
    "        print(\"kaldiniz\")\n",
    "else:\n",
    "    print(\"sistemden cikis yapildi..\")\n",
    "\n",
    "\n",
    "\n",
    "\n",
    "\n",
    "word = input(\"Bana bir kelime soyle: \")\n",
    "\n",
    "if word == \"\":\n",
    "    print(\"Kelime bos. Program sonlandi.\")\n",
    "else:\n",
    "    count = 0\n",
    "    for ch in word:\n",
    "        count += 1\n",
    "\n",
    "    print(\"Karakter sayisi:\", count)\n",
    "    print(\"İlk harf:\", word[0])\n",
    "    print(\"Son harf:\", word[count-1])\n",
    "\n",
    "    i = count-1\n",
    "    while i>=0:\n",
    "        print(str(word[i]))\n",
    "        i-= 1\n",
    "\n",
    "\n",
    "\n",
    "sayi1=int(input(\"bana ilk sayiyi söyle\"))\n",
    "sayi2=int(input(\"bana ikinci sayiyi söyle\"))\n",
    "\n",
    "top=sayi1+sayi2\n",
    "cik=sayi1-sayi2\n",
    "crp=sayi1*sayi2\n",
    "bol=sayi1/sayi2\n",
    "mod=sayi1%sayi2\n",
    "\n",
    "print(\"toplami \"+str(top)+\" farki \"+str(cik)+\" bolumu \"+str(bol)+\" carpimi \"+str(crp)+\" modu \"+str(mod))\n",
    "\n",
    "    \n",
    "urun1=int(input(\"ilk urun ne kadar\"))\n",
    "urun2=int(input(\"ikinci urun ne kadar\"))\n",
    "urun3=int(input(\"ucuncu urun ne kadar\"))\n",
    "\n",
    "toplamurun=urun1+urun2+urun3\n",
    "print(\"toplam urun: \"+str(toplamurun))\n",
    "\n",
    "if(toplamurun>=200):\n",
    "    sonfiyat=toplamurun-toplamurun*(10/100)\n",
    "print(\"son fiyat:\"+str(sonfiyat))\n",
    "\n",
    "dgmtarih=int(input(\"hangi yil dogdunuz\"))\n",
    "yas=2025-dgmtarih\n",
    "print(\"yasiniz \"+str(dgmtarih))"
   ]
  },
  {
   "cell_type": "code",
   "execution_count": null,
   "id": "35c2b014-3273-46df-a84c-39cbd4c0ee2a",
   "metadata": {},
   "outputs": [],
   "source": []
  }
 ],
 "metadata": {
  "kernelspec": {
   "display_name": "Python 3 (ipykernel)",
   "language": "python",
   "name": "python3"
  },
  "language_info": {
   "codemirror_mode": {
    "name": "ipython",
    "version": 3
   },
   "file_extension": ".py",
   "mimetype": "text/x-python",
   "name": "python",
   "nbconvert_exporter": "python",
   "pygments_lexer": "ipython3",
   "version": "3.13.5"
  }
 },
 "nbformat": 4,
 "nbformat_minor": 5
}
