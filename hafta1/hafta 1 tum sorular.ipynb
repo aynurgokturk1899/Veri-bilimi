{
 "cells": [
  {
   "cell_type": "code",
   "execution_count": null,
   "id": "67f8a501-7450-493c-8a0e-974faf2213d3",
   "metadata": {},
   "outputs": [],
   "source": []
  }
 ],
 "metadata": {
  "kernelspec": {
   "display_name": "",
   "name": ""
  },
  "language_info": {
   "name": ""
  }
 },
 "nbformat": 4,
 "nbformat_minor": 5
}
