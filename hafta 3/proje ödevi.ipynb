{
 "cells": [
  {
   "cell_type": "code",
   "execution_count": 1,
   "id": "89739811-6785-4968-8aa3-a59d973b059c",
   "metadata": {},
   "outputs": [
    {
     "name": "stdout",
     "output_type": "stream",
     "text": [
      "{'isim': 'Makine Öğrenmesi', 'yazar': 'Can', 'tur': 'Bilim', 'satis': 1800, 'yil': 2022}\n"
     ]
    }
   ],
   "source": [
    "\"\"\"proje odevi\"\"\"\n",
    "\n",
    "kitaplar = [\n",
    " {\"isim\": \"Veri Bilimi 101\", \"yazar\": \"Ali\", \"tur\": \"Bilim\", \"satis\": 1200, \"yil\": 2021},\n",
    " {\"isim\": \"Python ile Yapay Zeka\", \"yazar\": \"Ayşe\", \"tur\": \"Bilim\", \"satis\": 950, \"yil\":\n",
    "2020},\n",
    " {\"isim\": \"İstatistik Temelleri\", \"yazar\": \"Ali\", \"tur\": \"Akademik\", \"satis\": 700, \"yil\": 2019},\n",
    " {\"isim\": \"Makine Öğrenmesi\", \"yazar\": \"Can\", \"tur\": \"Bilim\", \"satis\": 1800, \"yil\": 2022},\n",
    " {\"isim\": \"Veri Görselleştirme\", \"yazar\": \"Deniz\", \"tur\": \"Sanat\", \"satis\": 400, \"yil\": 2018},\n",
    " {\"isim\": \"Matematiksel Modelleme\", \"yazar\": \"Ali\", \"tur\": \"Akademik\", \"satis\": 1500,\n",
    "\"yil\": 2021},\n",
    " {\"isim\": \"Bilgi Toplumu\", \"yazar\": \"Ayşe\", \"tur\": \"Sosyal\", \"satis\": 600, \"yil\": 2022}\n",
    "]\n",
    "def en_cok_satan(kitaplar):\n",
    "    max_kitap = kitaplar[0]\n",
    "\n",
    "    for kitap in kitaplar:\n",
    "        if kitap[\"satis\"] > max_kitap[\"satis\"]:\n",
    "            max_kitap = kitap\n",
    "\n",
    "    return max_kitap\n",
    "\n",
    "print(en_cok_satan(kitaplar))"
   ]
  },
  {
   "cell_type": "code",
   "execution_count": 2,
   "id": "39aa2c40-0baa-4394-aa34-0b1fc0bda7bc",
   "metadata": {},
   "outputs": [
    {
     "name": "stdout",
     "output_type": "stream",
     "text": [
      "{'Ali': 3400, 'Ayşe': 1550, 'Can': 1800, 'Deniz': 400}\n"
     ]
    }
   ],
   "source": [
    "def yazar_satislari(kitaplar):\n",
    "    satislar = {}\n",
    "    for kitap in kitaplar:\n",
    "        yazar = kitap[\"yazar\"]\n",
    "        satis = kitap[\"satis\"]\n",
    "\n",
    "        if yazar not in satislar:\n",
    "            satislar[yazar] = 0\n",
    "\n",
    "        satislar[yazar] += satis\n",
    "\n",
    "    return satislar\n",
    "\n",
    "print(yazar_satislari(kitaplar))\n"
   ]
  },
  {
   "cell_type": "code",
   "execution_count": 3,
   "id": "62caee60-4f71-4786-9ef6-0c0c321a1347",
   "metadata": {},
   "outputs": [
    {
     "name": "stdout",
     "output_type": "stream",
     "text": [
      "{'Sanat', 'Akademik', 'Sosyal', 'Bilim'}\n"
     ]
    }
   ],
   "source": [
    "def kitap_turleri(kitaplar):\n",
    "    turler = set()  \n",
    "    for kitap in kitaplar:\n",
    "        turler.add(kitap[\"tur\"])  \n",
    "    return turler\n",
    "\n",
    "\n",
    "print(kitap_turleri(kitaplar))"
   ]
  },
  {
   "cell_type": "code",
   "execution_count": 4,
   "id": "ff6c5b29-4458-4723-8d76-146877e5b381",
   "metadata": {},
   "outputs": [
    {
     "name": "stdout",
     "output_type": "stream",
     "text": [
      "['Veri Bilimi 101', 'Makine Öğrenmesi', 'Matematiksel Modelleme']\n"
     ]
    }
   ],
   "source": [
    "def cok_satan_kitaplar(kitaplar):\n",
    "    liste = []\n",
    "    for kitap in kitaplar:\n",
    "        if kitap[\"satis\"] > 1000:\n",
    "            liste.append(kitap[\"isim\"])\n",
    "    return liste\n",
    "\n",
    "\n",
    "print(cok_satan_kitaplar(kitaplar))\n"
   ]
  },
  {
   "cell_type": "code",
   "execution_count": 5,
   "id": "1f85a893-f8d2-4262-9315-1b629a135276",
   "metadata": {},
   "outputs": [
    {
     "name": "stdout",
     "output_type": "stream",
     "text": [
      "[{'isim': 'Veri Bilimi 101', 'yazar': 'Ali', 'tur': 'Bilim', 'satis': 1200, 'yil': 2021}, {'isim': 'Makine Öğrenmesi', 'yazar': 'Can', 'tur': 'Bilim', 'satis': 1800, 'yil': 2022}, {'isim': 'Matematiksel Modelleme', 'yazar': 'Ali', 'tur': 'Akademik', 'satis': 1500, 'yil': 2021}, {'isim': 'Bilgi Toplumu', 'yazar': 'Ayşe', 'tur': 'Sosyal', 'satis': 600, 'yil': 2022}]\n"
     ]
    }
   ],
   "source": [
    "sonra_2020 = list(filter(lambda k: k[\"yil\"] > 2020, kitaplar))\n",
    "\n",
    "print(sonra_2020)\n"
   ]
  },
  {
   "cell_type": "code",
   "execution_count": 6,
   "id": "df1d7450-e6b6-4a31-86e9-dc73df987a69",
   "metadata": {},
   "outputs": [
    {
     "name": "stdout",
     "output_type": "stream",
     "text": [
      "[1320.0, 1045.0, 770.0000000000001, 1980.0000000000002, 440.00000000000006, 1650.0000000000002, 660.0]\n"
     ]
    }
   ],
   "source": [
    "yeni_satislar = list(map(lambda k: k[\"satis\"] * 1.1, kitaplar))\n",
    "\n",
    "print(yeni_satislar)"
   ]
  },
  {
   "cell_type": "code",
   "execution_count": 7,
   "id": "4f3be85f-8ddf-47cf-a688-844ed6015724",
   "metadata": {},
   "outputs": [
    {
     "name": "stdout",
     "output_type": "stream",
     "text": [
      "Makine Öğrenmesi - 1800\n",
      "Matematiksel Modelleme - 1500\n",
      "Veri Bilimi 101 - 1200\n",
      "Python ile Yapay Zeka - 950\n",
      "İstatistik Temelleri - 700\n",
      "Bilgi Toplumu - 600\n",
      "Veri Görselleştirme - 400\n"
     ]
    }
   ],
   "source": [
    "sirali = sorted(kitaplar, key=lambda k: k[\"satis\"], reverse=True)\n",
    "\n",
    "for kitap in sirali:\n",
    "    print(kitap[\"isim\"], \"-\", kitap[\"satis\"])"
   ]
  },
  {
   "cell_type": "code",
   "execution_count": 8,
   "id": "3781c8fb-8e9d-41ff-b6b5-c0018188c391",
   "metadata": {},
   "outputs": [
    {
     "name": "stdout",
     "output_type": "stream",
     "text": [
      "Ortalama satis: 1021.4285714285714\n",
      "En cok satan tur: Bilim\n",
      "Satislarin standart sapmasi: 506.5053001179939\n"
     ]
    }
   ],
   "source": [
    "import statistics\n",
    "\n",
    "\n",
    "satislar = [kitap[\"satis\"] for kitap in kitaplar]\n",
    "\n",
    "\n",
    "ortalama_satis = sum(satislar) / len(satislar)\n",
    "\n",
    "std_sapma = statistics.stdev(satislar)\n",
    "\n",
    "tur_satis = {}\n",
    "for kitap in kitaplar:\n",
    "    tur = kitap[\"tur\"]\n",
    "    satis = kitap[\"satis\"]\n",
    "    if tur not in tur_satis:\n",
    "        tur_satis[tur] = 0\n",
    "    tur_satis[tur] += satis\n",
    "\n",
    "\n",
    "en_cok_satan_tur = max(tur_satis, key=tur_satis.get)\n",
    "\n",
    "\n",
    "print(\"Ortalama satis:\", ortalama_satis)\n",
    "print(\"En cok satan tur:\", en_cok_satan_tur)\n",
    "print(\"Satislarin standart sapmasi:\", std_sapma)"
   ]
  },
  {
   "cell_type": "code",
   "execution_count": 9,
   "id": "51cee463-fe7d-443c-aefb-5bd9bf8329e3",
   "metadata": {},
   "outputs": [
    {
     "name": "stdout",
     "output_type": "stream",
     "text": [
      "Egitim verisi: [{'isim': 'Veri Görselleştirme', 'yazar': 'Deniz', 'tur': 'Sanat', 'satis': 400, 'yil': 2018}, {'isim': 'İstatistik Temelleri', 'yazar': 'Ali', 'tur': 'Akademik', 'satis': 700, 'yil': 2019}, {'isim': 'Bilgi Toplumu', 'yazar': 'Ayşe', 'tur': 'Sosyal', 'satis': 600, 'yil': 2022}, {'isim': 'Makine Öğrenmesi', 'yazar': 'Can', 'tur': 'Bilim', 'satis': 1800, 'yil': 2022}]\n",
      "Test verisi: [{'isim': 'Veri Bilimi 101', 'yazar': 'Ali', 'tur': 'Bilim', 'satis': 1200, 'yil': 2021}, {'isim': 'Matematiksel Modelleme', 'yazar': 'Ali', 'tur': 'Akademik', 'satis': 1500, 'yil': 2021}, {'isim': 'Python ile Yapay Zeka', 'yazar': 'Ayşe', 'tur': 'Bilim', 'satis': 950, 'yil': 2020}]\n"
     ]
    }
   ],
   "source": [
    "import random\n",
    "\n",
    "karisik_kitaplar = kitaplar.copy()\n",
    "random.shuffle(karisik_kitaplar)\n",
    "\n",
    "train_size = int(0.7 * len(karisik_kitaplar))\n",
    "train = karisik_kitaplar[:train_size]\n",
    "test = karisik_kitaplar[train_size:]\n",
    "\n",
    "print(\"Egitim verisi:\", train)\n",
    "print(\"Test verisi:\", test)\n"
   ]
  },
  {
   "cell_type": "code",
   "execution_count": null,
   "id": "5a0db1c5-8f1b-4e32-8e85-5870bc24984e",
   "metadata": {},
   "outputs": [],
   "source": [
    "yazar_satis = {}\n",
    "yazar_kitap_sayisi = {}\n",
    "\n",
    "for kitap in train:\n",
    "    yazar = kitap[\"yazar\"]\n",
    "    satis = kitap[\"satis\"]\n",
    "    \n",
    "    if yazar not in yazar_satis:\n",
    "        yazar_satis[yazar] = 0\n",
    "        yazar_kitap_sayisi[yazar] = 0\n",
    "    \n",
    "    yazar_satis[yazar] += satis\n",
    "    yazar_kitap_sayisi[yazar] += 1\n",
    "\n",
    "# Ortalama satışları hesapla\n",
    "yazar_ortalama_satis = {yazar: yazar_satis[yazar]/yazar_kitap_sayisi[yazar] \n",
    "                        for yazar in yazar_satis}\n",
    "\n",
    "print(\"Yazarların eğitim verisi ortalama satışları:\", yazar_ortalama_satis)\n"
   ]
  }
 ],
 "metadata": {
  "kernelspec": {
   "display_name": "Python 3 (ipykernel)",
   "language": "python",
   "name": "python3"
  },
  "language_info": {
   "codemirror_mode": {
    "name": "ipython",
    "version": 3
   },
   "file_extension": ".py",
   "mimetype": "text/x-python",
   "name": "python",
   "nbconvert_exporter": "python",
   "pygments_lexer": "ipython3",
   "version": "3.13.5"
  }
 },
 "nbformat": 4,
 "nbformat_minor": 5
}
