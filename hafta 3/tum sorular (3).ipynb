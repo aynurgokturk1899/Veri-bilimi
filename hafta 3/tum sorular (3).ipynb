{
 "cells": [
  {
   "cell_type": "code",
   "execution_count": 1,
   "id": "040ca34c-5719-4f4b-a0ce-c1efd909b6ee",
   "metadata": {},
   "outputs": [
    {
     "name": "stdout",
     "output_type": "stream",
     "text": [
      "En yuksek not: 100\n",
      "En dusuk not: 76\n",
      "Notlarin kucukten buyuge siralamasi: [76, 76, 85, 85, 92, 92, 92, 100]\n"
     ]
    }
   ],
   "source": [
    "\"\"\"Soru 1 – Liste Metotları\n",
    "Bir sınıfta öğrencilerin notları şu şekilde tutuluyor:\n",
    "notlar = [85, 92, 76, 92, 100, 76, 85, 92]\n",
    "• Listedeki tekrar eden notları silip benzersiz bir liste oluşturun.\n",
    "• En yüksek ve en düşük notu bulun.\n",
    "• Notları küçükten büyüğe sıralayın.\n",
    "\"\"\"\n",
    "notlar = [85, 92, 76, 92, 100, 76, 85, 92]\n",
    "\n",
    "i = 0\n",
    "max = notlar[0]\n",
    "min = notlar[0]\n",
    "\n",
    "while i < len(notlar):\n",
    "    if notlar[i] > max:\n",
    "        max = notlar[i]\n",
    "    if notlar[i] < min:\n",
    "        min = notlar[i]\n",
    "    i += 1\n",
    "\n",
    "print(\"En yuksek not:\", f'{max}')\n",
    "print(\"En dusuk not:\", f'{min}')\n",
    "notlar.sort()\n",
    "print(\"Notlarin kucukten buyuge siralamasi:\", notlar)\n"
   ]
  },
  {
   "cell_type": "code",
   "execution_count": 2,
   "id": "1c83aa8d-6a7b-4c91-9746-bf059e451075",
   "metadata": {},
   "outputs": [
    {
     "name": "stdin",
     "output_type": "stream",
     "text": [
      "Armstrong olup olmadigini anlamak icin sayiyi giriniz:  153\n"
     ]
    },
    {
     "name": "stdout",
     "output_type": "stream",
     "text": [
      "153 bir Armstrong sayisidir.\n"
     ]
    }
   ],
   "source": [
    "\"\"\"Soru 2 – Sayılar\n",
    "Bir sayının Armstrong sayısı olup olmadığını kontrol eden bir Python fonksiyonu yazın.\n",
    "Armstrong sayısı: Her basamağının küplerinin toplamı kendisine eşit olan sayılar.\n",
    "Örn: 153 → 1³+5³+3³ = 153\"\"\"\n",
    "\n",
    "def Amstrong(sayi):\n",
    "    toplam = 0\n",
    "    temp = sayi\n",
    "    while temp > 0:\n",
    "        basamak = temp % 10      \n",
    "        toplam += basamak ** 3    \n",
    "        temp //= 10              \n",
    "    if toplam == sayi:\n",
    "        print(sayi, \"bir Armstrong sayisidir.\")\n",
    "    else:\n",
    "        print(sayi, \"bir Armstrong sayisi degildir.\")\n",
    "\n",
    "sayi = int(input(\"Armstrong olup olmadigini anlamak icin sayiyi giriniz: \"))\n",
    "Amstrong(sayi)\n"
   ]
  },
  {
   "cell_type": "code",
   "execution_count": 3,
   "id": "76c5127e-c1ce-4b54-a332-482f4f8d9a1f",
   "metadata": {},
   "outputs": [
    {
     "name": "stdout",
     "output_type": "stream",
     "text": [
      "Kumelerdeki ortak diller: {'Python', 'SQL'}\n",
      "Sadece A da olan diller: {'R', 'Java'}\n",
      "Birleşim (alfabetik): ['C++', 'Java', 'JavaScript', 'Python', 'R', 'SQL']\n"
     ]
    }
   ],
   "source": [
    "\"\"\"Soru 3 – Kümeler\n",
    "Aşağıdaki iki küme verilmiştir:\n",
    "A = {\"Python\", \"R\", \"SQL\", \"Java\"}\n",
    "B = {\"C++\", \"Python\", \"JavaScript\", \"SQL\"}\n",
    "• Ortak dilleri bulun.\n",
    "• Sadece A’da olan dilleri listeleyin.\n",
    "• İki kümenin birleşimini alfabetik olarak yazdırın.\"\"\"\n",
    "\n",
    "A = {\"Python\", \"R\", \"SQL\", \"Java\"}\n",
    "B = {\"C++\", \"Python\", \"JavaScript\", \"SQL\"}\n",
    "\n",
    "print(\"Kumelerdeki ortak diller:\", A.intersection(B))\n",
    "\n",
    "\n",
    "print(\"Sadece A da olan diller:\", A.difference(B))\n",
    "\n",
    "birlesim = sorted(A.union(B))\n",
    "print(\"Birleşim (alfabetik):\", birlesim)\n"
   ]
  },
  {
   "cell_type": "code",
   "execution_count": 4,
   "id": "b5b0274e-81be-4675-bc6e-0c9fc3d3e6d4",
   "metadata": {},
   "outputs": [
    {
     "name": "stdout",
     "output_type": "stream",
     "text": [
      "Rastgele sayilar: [5, 58, 70, 36, 22, 83, 51, 73, 80, 98]\n",
      "Ortalama : 57.6\n",
      "Standart sapma : 29.27721905433567\n",
      "Ortalama (statistics): 57.6\n",
      "Standart sapma: 29.277219054335667\n"
     ]
    }
   ],
   "source": [
    "\"\"\"Soru 4 – Modüller\n",
    "• random modülünü kullanarak 1–100 arasında 10 rastgele sayı üretin.\n",
    "• Bu sayıların ortalamasını ve standart sapmasını statistics modülü ile hesaplayın.\"\"\"\n",
    "\n",
    "import random\n",
    "import statistics\n",
    "\n",
    "\n",
    "sayilar = []\n",
    "for i in range(10):\n",
    "    sayilar.append(random.randint(1, 100))\n",
    "\n",
    "print(\"Rastgele sayilar:\", sayilar)\n",
    "\n",
    "toplam = 0\n",
    "for j in range(10):\n",
    "    toplam += sayilar[j]\n",
    "\n",
    "ortalama = toplam / 10\n",
    "print(\"Ortalama :\", ortalama)\n",
    "\n",
    "farkkareleri = 0\n",
    "for k in range(10):\n",
    "    farkkareleri += (sayilar[k] - ortalama) ** 2\n",
    "\n",
    "sapma = (farkkareleri / (10 - 1)) ** 0.5\n",
    "print(\"Standart sapma :\", sapma)\n",
    "\n",
    "# Ortalama (statistics modülü ile)\n",
    "print(\"Ortalama (statistics):\", statistics.mean(sayilar))\n",
    "\n",
    "# Standart sapma (statistics modülü ile)\n",
    "print(\"Standart sapma:\", statistics.stdev(sayilar))\n"
   ]
  },
  {
   "cell_type": "code",
   "execution_count": 1,
   "id": "1a0dee49-9883-43e9-830f-faa0d9cda827",
   "metadata": {},
   "outputs": [
    {
     "name": "stdin",
     "output_type": "stream",
     "text": [
      "Bir cumle kurunuz:  malatya malatya bulunmaz eşin\n"
     ]
    },
    {
     "name": "stdout",
     "output_type": "stream",
     "text": [
      "Toplam kelime sayisi: 4\n",
      "En uzun kelime: bulunmaz\n",
      "En cok gecen kelime: malatya\n"
     ]
    }
   ],
   "source": [
    "\"\"\"Soru 5 – Fonksiyonlar\n",
    "kelime_sayacı(metin) adında bir fonksiyon yazın.\n",
    "Fonksiyon verilen metindeki:\n",
    "• toplam kelime sayısını\n",
    "• en uzun kelimeyi\n",
    "• en sık geçen kelimeyi döndürsün.\"\"\"\n",
    "\n",
    "toplam=0\n",
    "uzun=0\n",
    "kisa=0\n",
    "\n",
    "def kelimesayaci(metin):\n",
    "    kelimeler = metin.split()\n",
    "\n",
    "    uzun = max(kelimeler, key=len)\n",
    "    kisa = max(kelimeler, key=kelimeler.count)\n",
    "    toplam = len(kelimeler)\n",
    "\n",
    "    return toplam,uzun,kisa\n",
    "\n",
    "\n",
    "cumle = input(\"Bir cumle kurunuz: \")\n",
    "\n",
    "toplam, uzun,kisa  = kelimesayaci(cumle)\n",
    "\n",
    "print(\"Toplam kelime sayisi:\", toplam)\n",
    "print(\"En uzun kelime:\", uzun)\n",
    "print(\"En cok gecen kelime:\", kisa) "
   ]
  },
  {
   "cell_type": "code",
   "execution_count": 2,
   "id": "95f3551e-2be8-4651-aa1d-45518cc6f2a0",
   "metadata": {},
   "outputs": [
    {
     "name": "stdout",
     "output_type": "stream",
     "text": [
      "[12, 18, 24, 16]\n",
      "[25, 144, 49, 324, 576, 9, 256]\n",
      "Sirali liste: [9, 25, 49, 144, 256, 324, 576]\n",
      "Çift sayılar: [12, 18, 24, 16]\n",
      "Kareleri: [144, 324, 576, 256]\n",
      "Azalan sırada: [576, 324, 256, 144]\n"
     ]
    }
   ],
   "source": [
    "\"\"\"Soru 6 – Gömülü Fonksiyonlar\n",
    "Aşağıdaki liste için map, filter, sorted gibi gömülü fonksiyonları kullanarak:\n",
    "sayilar = [5, 12, 7, 18, 24, 3, 16]\n",
    "• Sadece çift sayıları filtreleyin.\n",
    "• Bu sayıların karelerini bulun.\n",
    "• Karelerini azalan sırada sıralayın.\"\"\"\n",
    "\n",
    "\n",
    "sayilar = [5, 12, 7, 18, 24, 3, 16]\n",
    "\n",
    "i=0\n",
    "cift=[]\n",
    "kare=[]\n",
    "while(i<len(sayilar)):\n",
    "    if(sayilar[i]%2==0):\n",
    "        cift.append(sayilar[i])\n",
    "    \n",
    "    kare.append(sayilar[i]**2)\n",
    "    \n",
    "    \n",
    "    i+=1\n",
    "print(cift)\n",
    "print(kare)\n",
    "kare.sort()\n",
    "print(\"Sirali liste:\", kare)\n",
    "\n",
    "sayilar = [5, 12, 7, 18, 24, 3, 16]\n",
    "\n",
    "# 1️⃣ Sadece çift sayıları filtrele\n",
    "cift = list(filter(lambda x: x % 2 == 0, sayilar))\n",
    "\n",
    "# 2️⃣ Bu sayıların karelerini bul\n",
    "kare = list(map(lambda x: x**2, cift))\n",
    "\n",
    "# 3️⃣ Karelerini azalan sırada sırala\n",
    "sirali = sorted(kare, reverse=True)\n",
    "\n",
    "print(\"Çift sayılar:\", cift)\n",
    "print(\"Kareleri:\", kare)\n",
    "print(\"Azalan sırada:\", sirali)\n",
    "\n"
   ]
  },
  {
   "cell_type": "code",
   "execution_count": 3,
   "id": "37059d90-1d8e-4e1e-beb3-b4dbaee5c16f",
   "metadata": {},
   "outputs": [
    {
     "name": "stdout",
     "output_type": "stream",
     "text": [
      "['veri', 'bilim', 'analiz', 'python', 'yapayzeka']\n"
     ]
    }
   ],
   "source": [
    "\"\"\"Soru 7 – Lambda İfadeleri\n",
    "Aşağıdaki listeyi, her kelimenin uzunluğuna göre küçükten büyüğe sıralayın.\n",
    "kelimeler = [\"veri\", \"bilim\", \"analiz\", \"yapayzeka\", \"python\"]\n",
    "Bunu sorted + lambda ile yapın.\n",
    "\"\"\"\n",
    "\n",
    "kelimeler = [\"veri\", \"bilim\", \"analiz\", \"yapayzeka\", \"python\"]\n",
    "\n",
    "sirali = sorted(kelimeler, key=lambda x: len(x))\n",
    "\n",
    "print(sirali)"
   ]
  },
  {
   "cell_type": "code",
   "execution_count": 4,
   "id": "d13ce9fd-d244-49fa-9e44-44c582132aff",
   "metadata": {},
   "outputs": [
    {
     "name": "stdin",
     "output_type": "stream",
     "text": [
      "Bir ifade girin:  rfjkerk45kdfklvdkllkdlfdg5kdlfkldflkdl12skflkskvşkşdsş3sfşlslşdlşvskslş5dsşvşlv\n"
     ]
    },
    {
     "name": "stdout",
     "output_type": "stream",
     "text": [
      "Rakamlarin toplami: 70\n"
     ]
    }
   ],
   "source": [
    "\"\"\"Soru 8 – Metodlar\n",
    "Bir string içinde geçen tüm rakamları bulun ve bunların toplamını döndüren bir fonksiyon\n",
    "yazın.\n",
    "Örn: \"abc12def3\" → 12 + 3 = 15\"\"\"\n",
    "\n",
    "def rakamtoplami(metin):\n",
    "    sayi = \"\"\n",
    "    toplam = 0\n",
    "\n",
    "    for ch in metin:\n",
    "        if ch.isdigit():          \n",
    "            sayi += ch            \n",
    "        else:\n",
    "            if sayi != \"\":       \n",
    "                toplam += int(sayi)\n",
    "                sayi = \"\"          \n",
    "    \n",
    "    if sayi != \"\":                 \n",
    "        toplam += int(sayi)\n",
    "\n",
    "    return toplam\n",
    "\n",
    "\n",
    "print(\"Rakamlarin toplami:\", rakamtoplami( input(\"Bir ifade girin: \")))\n"
   ]
  },
  {
   "cell_type": "code",
   "execution_count": 7,
   "id": "7a0921f8-55f0-45e8-97a5-c9dc20152ff0",
   "metadata": {},
   "outputs": [
    {
     "name": "stdout",
     "output_type": "stream",
     "text": [
      "Dizi: [10 44 46 45 27 34 13 44 31  9]\n",
      "Ortalama: 30.3\n",
      "Standart sapma: 14.241137595009747\n",
      "En büyük değer: 46\n"
     ]
    }
   ],
   "source": [
    "\"\"\"Soru 9 – (Ekstra) Numpy 1\n",
    "10 elemanlı bir numpy dizisi oluşturun.\n",
    "• Elemanlar 0–50 arasında rastgele sayılar olsun.\n",
    "• Dizinin ortalamasını, standart sapmasını ve en büyük değerini bulun.\"\"\"\n",
    "\n",
    "import numpy as np\n",
    "\n",
    "\n",
    "dizi = np.random.randint(0, 51, size=10)\n",
    "\n",
    "print(\"Dizi:\", dizi)\n",
    "\n",
    "\n",
    "ortalama = np.mean(dizi)\n",
    "print(\"Ortalama:\", ortalama)\n",
    "\n",
    "\n",
    "std_sapma = np.std(dizi)\n",
    "print(\"Standart sapma:\", std_sapma)\n",
    "\n",
    "\n",
    "en_buyuk = np.max(dizi)\n",
    "print(\"En büyük değer:\", en_buyuk)\n"
   ]
  },
  {
   "cell_type": "code",
   "execution_count": 8,
   "id": "9f7d0848-1d1d-4914-93aa-08bae4e5b148",
   "metadata": {},
   "outputs": [
    {
     "name": "stdout",
     "output_type": "stream",
     "text": [
      "Orijinal matris:\n",
      " [[0.11389986 0.53344377 0.57731717 0.18288358 0.61985642]\n",
      " [0.53854127 0.17815066 0.87017349 0.90343872 0.22368973]\n",
      " [0.12671943 0.48280702 0.89291624 0.71004842 0.94197618]\n",
      " [0.61141411 0.61030581 0.61986882 0.93102444 0.68692716]\n",
      " [0.663775   0.56837656 0.08191183 0.0871021  0.65181088]]\n",
      "Sütun ortalamaları: [0.41086993 0.47461676 0.60843751 0.56289945 0.62485208]\n",
      "Binary matris:\n",
      " [[0 1 1 0 1]\n",
      " [1 0 1 1 0]\n",
      " [0 0 1 1 1]\n",
      " [1 1 1 1 1]\n",
      " [1 1 0 0 1]]\n"
     ]
    }
   ],
   "source": [
    "\"\"\"Soru 10 – (Ekstra) Numpy 2\n",
    "5x5 boyutunda rastgele 0–1 arasında değerlerden oluşan bir numpy matrisi üretin.\n",
    "• Her sütunun ortalamasını bulun.\n",
    "• 0.5’ten büyük olan değerleri 1, küçük eşit olanları 0 yaparak binary matris oluşturun\"\"\"\n",
    "\n",
    "import numpy as np\n",
    "\n",
    "\n",
    "matris = np.random.rand(5, 5)\n",
    "print(\"Orijinal matris:\\n\", matris)\n",
    "\n",
    "\n",
    "sutun_ortalama = np.mean(matris, axis=0)\n",
    "print(\"Sütun ortalamaları:\", sutun_ortalama)\n",
    "\n",
    "\n",
    "binary_matris = np.where(matris > 0.5, 1, 0)\n",
    "print(\"Binary matris:\\n\", binary_matris)\n"
   ]
  },
  {
   "cell_type": "code",
   "execution_count": null,
   "id": "b305eb83-a60b-40ce-86ce-2a336bb4975d",
   "metadata": {},
   "outputs": [],
   "source": []
  }
 ],
 "metadata": {
  "kernelspec": {
   "display_name": "Python 3 (ipykernel)",
   "language": "python",
   "name": "python3"
  },
  "language_info": {
   "codemirror_mode": {
    "name": "ipython",
    "version": 3
   },
   "file_extension": ".py",
   "mimetype": "text/x-python",
   "name": "python",
   "nbconvert_exporter": "python",
   "pygments_lexer": "ipython3",
   "version": "3.13.5"
  }
 },
 "nbformat": 4,
 "nbformat_minor": 5
}
