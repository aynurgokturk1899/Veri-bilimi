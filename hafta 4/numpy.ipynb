{
 "cells": [
  {
   "cell_type": "code",
   "execution_count": 2,
   "id": "b6a148d3-e9bb-40e1-8e26-bcd27e1f153e",
   "metadata": {},
   "outputs": [
    {
     "name": "stdout",
     "output_type": "stream",
     "text": [
      "[[ 7 28 48 83 96]\n",
      " [ 4 48 96 80 15]\n",
      " [61 50 35 35 10]\n",
      " [ 5 24 61 58 61]\n",
      " [74 58 12 44 91]]\n",
      "Ortalama: 47.36\n",
      "standart sapmasi 28.780382207330046\n",
      "varyansi 828.3104\n",
      "en buyuk deger 96\n",
      "en kucuk deger 4\n",
      "kosegenlerin toplami 424\n",
      "Ortalama: 49.96656280114038\n",
      "Medyan: 50.219692464898344\n",
      "Standart Sapma: 15.136948076560081\n",
      "50’den dusuk alan ogrenci sayisi: 493\n"
     ]
    }
   ],
   "source": [
    "import numpy as np\n",
    "\n",
    "matris = np.random.randint(0, 100, (5, 5))\n",
    "\n",
    "print(matris)\n",
    "\n",
    "\n",
    "ortalama = np.mean(matris)\n",
    "standart=np.std(matris)\n",
    "varyans=np.var(matris)\n",
    "maksimum=np.max(matris)\n",
    "minimum=np.min(matris)\n",
    "\n",
    "i=0\n",
    "toplam=0\n",
    "for i in range(5):\n",
    "   toplam+=matris[i][0]+matris[i][4] \n",
    "   i+=1\n",
    "\n",
    "\n",
    "print(\"Ortalama:\", ortalama)\n",
    "print(\"standart sapmasi\",standart)\n",
    "print(\"varyansi\",varyans)\n",
    "print(\"en buyuk deger\",maksimum)\n",
    "print(\"en kucuk deger\",minimum)\n",
    "print(\"kosegenlerin toplami\",toplam)\n",
    "\n",
    "\n",
    "\n",
    "ortalama = 50      \n",
    "sapma = 15    \n",
    "ogrenci= 1000\n",
    "\n",
    "\n",
    "puanlar = np.random.normal(ortalama, sapma, ogrenci)\n",
    "\n",
    "puanlar = np.clip(puanlar, 0, 100)\n",
    "\n",
    "ortalama = np.mean(puanlar)\n",
    "medyan = np.median(puanlar)\n",
    "standartsapma = np.std(puanlar)\n",
    "\n",
    "dusuk = np.sum(puanlar < 50)\n",
    "\n",
    "print(\"Ortalama:\", ortalama)\n",
    "print(\"Medyan:\", medyan)\n",
    "print(\"Standart Sapma:\", standartsapma)\n",
    "print(\"50’den dusuk alan ogrenci sayisi:\", dusuk)\n"
   ]
  },
  {
   "cell_type": "code",
   "execution_count": null,
   "id": "c23af1a5-7682-4001-bc47-1d2d8157f22e",
   "metadata": {},
   "outputs": [],
   "source": []
  }
 ],
 "metadata": {
  "kernelspec": {
   "display_name": "Python 3 (ipykernel)",
   "language": "python",
   "name": "python3"
  },
  "language_info": {
   "codemirror_mode": {
    "name": "ipython",
    "version": 3
   },
   "file_extension": ".py",
   "mimetype": "text/x-python",
   "name": "python",
   "nbconvert_exporter": "python",
   "pygments_lexer": "ipython3",
   "version": "3.13.5"
  }
 },
 "nbformat": 4,
 "nbformat_minor": 5
}
